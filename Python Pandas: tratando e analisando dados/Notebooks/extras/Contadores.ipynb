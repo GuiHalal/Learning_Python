{
 "cells": [
  {
   "cell_type": "code",
   "execution_count": 3,
   "id": "8e59cdfb",
   "metadata": {},
   "outputs": [],
   "source": [
    "import pandas as pd"
   ]
  },
  {
   "cell_type": "code",
   "execution_count": 2,
   "id": "e2561375",
   "metadata": {},
   "outputs": [
    {
     "data": {
      "text/plain": [
       "0     a\n",
       "1     s\n",
       "2     d\n",
       "3     a\n",
       "4     d\n",
       "5     e\n",
       "6     a\n",
       "7     d\n",
       "8     e\n",
       "9     s\n",
       "10    d\n",
       "11    a\n",
       "12    s\n",
       "13    e\n",
       "14    s\n",
       "15    d\n",
       "16    a\n",
       "dtype: object"
      ]
     },
     "execution_count": 2,
     "metadata": {},
     "output_type": "execute_result"
    }
   ],
   "source": [
    "s = pd.Series(list('asdadeadesdasesda'))\n",
    "s"
   ]
  },
  {
   "cell_type": "code",
   "execution_count": 3,
   "id": "01dc77ab",
   "metadata": {},
   "outputs": [
    {
     "data": {
      "text/plain": [
       "array(['a', 's', 'd', 'e'], dtype=object)"
      ]
     },
     "execution_count": 3,
     "metadata": {},
     "output_type": "execute_result"
    }
   ],
   "source": [
    "s.unique()"
   ]
  },
  {
   "cell_type": "code",
   "execution_count": 5,
   "id": "a6d08693",
   "metadata": {},
   "outputs": [
    {
     "data": {
      "text/plain": [
       "a    5\n",
       "d    5\n",
       "s    4\n",
       "e    3\n",
       "dtype: int64"
      ]
     },
     "execution_count": 5,
     "metadata": {},
     "output_type": "execute_result"
    }
   ],
   "source": [
    "s.value_counts()"
   ]
  },
  {
   "cell_type": "code",
   "execution_count": 6,
   "id": "21d8cd03",
   "metadata": {},
   "outputs": [],
   "source": [
    "dados = pd.read_csv('dados/aluguel.csv', sep = ';')"
   ]
  },
  {
   "cell_type": "code",
   "execution_count": 7,
   "id": "b496ff99",
   "metadata": {},
   "outputs": [
    {
     "data": {
      "text/plain": [
       "array(['Apartamento', 'Casa', 'Casa de Condomínio', 'Casa de Vila',\n",
       "       'Quitinete'], dtype=object)"
      ]
     },
     "execution_count": 7,
     "metadata": {},
     "output_type": "execute_result"
    }
   ],
   "source": [
    "dados['Tipo'].unique()"
   ]
  },
  {
   "cell_type": "code",
   "execution_count": 8,
   "id": "f74e6cae",
   "metadata": {},
   "outputs": [
    {
     "data": {
      "text/plain": [
       "Apartamento           16923\n",
       "Casa de Condomínio      964\n",
       "Casa                    898\n",
       "Quitinete               813\n",
       "Casa de Vila            233\n",
       "Name: Tipo, dtype: int64"
      ]
     },
     "execution_count": 8,
     "metadata": {},
     "output_type": "execute_result"
    }
   ],
   "source": [
    "dados['Tipo'].value_counts()"
   ]
  },
  {
   "cell_type": "markdown",
   "id": "7f69f818",
   "metadata": {},
   "source": [
    "### Exercício 7.7\n",
    "- Suponha que estejamos testando as moedas que serão utilizadas por árbitros de futebol nas competições da Copa do Mundo. Atualmente, estas moedas são personalizadas e utilizadas em certos momentos dos jogos para decidir, na sorte, uma disputa. Nosso objetivo é verificar se as moedas que serão utilizadas nas competições não sejam viciadas.\n",
    "- Para isso testes foram realizados com cinco moedas e os resultados foram os seguintes:"
   ]
  },
  {
   "cell_type": "code",
   "execution_count": 1,
   "id": "7a68bc4a",
   "metadata": {},
   "outputs": [],
   "source": [
    "m1 = 'CCcCCccCCCccCcCccCcCcCCCcCCcccCCcCcCcCcccCCcCcccCc'\n",
    "m2 = 'CCCCCccCccCcCCCCccCccccCccCccCCcCccCcCcCCcCccCccCc'\n",
    "m3 = 'CccCCccCcCCCCCCCCCCcccCccCCCCCCccCCCcccCCCcCCcccCC'\n",
    "m4 = 'cCCccCCccCCccCCccccCcCcCcCcCcCcCCCCccccCCCcCCcCCCC'\n",
    "m5 = 'CCCcCcCcCcCCCcCCcCcCCccCcCCcccCccCCcCcCcCcCcccccCc'"
   ]
  },
  {
   "cell_type": "markdown",
   "id": "b7a53863",
   "metadata": {},
   "source": [
    "- Acima, temos o resultado de 50 lançamentos de cada moeda (`m1`, `m2`, `m3`, `m4` e `m5`), onde `c` representa a ocorrência do evento `CARA` e `C` representa a ocorrência do evento `COROA`.\n",
    "\n",
    "- Para tirarmos nossas conclusões, precisamos montar o seguinte DataFrame \n",
    "    - Onde `Freq. C` e `Freq. c` são, respectivamente, as frequências de `COROAS` e de `CARAS` em cada teste.\n",
    "    - Assinale a opção que mostra o código necessário para realizar tal tarefa."
   ]
  },
  {
   "cell_type": "code",
   "execution_count": 4,
   "id": "f736cb93",
   "metadata": {},
   "outputs": [],
   "source": [
    "df = pd.DataFrame(data = ['Cara', 'Coroa'], \n",
    "                    index = ['c', 'C'], \n",
    "                    columns = ['Faces'])"
   ]
  },
  {
   "cell_type": "code",
   "execution_count": 5,
   "id": "f5e55670",
   "metadata": {},
   "outputs": [
    {
     "data": {
      "text/html": [
       "<div>\n",
       "<style scoped>\n",
       "    .dataframe tbody tr th:only-of-type {\n",
       "        vertical-align: middle;\n",
       "    }\n",
       "\n",
       "    .dataframe tbody tr th {\n",
       "        vertical-align: top;\n",
       "    }\n",
       "\n",
       "    .dataframe thead th {\n",
       "        text-align: right;\n",
       "    }\n",
       "</style>\n",
       "<table border=\"1\" class=\"dataframe\">\n",
       "  <thead>\n",
       "    <tr style=\"text-align: right;\">\n",
       "      <th></th>\n",
       "      <th>Faces</th>\n",
       "    </tr>\n",
       "  </thead>\n",
       "  <tbody>\n",
       "    <tr>\n",
       "      <th>c</th>\n",
       "      <td>Cara</td>\n",
       "    </tr>\n",
       "    <tr>\n",
       "      <th>C</th>\n",
       "      <td>Coroa</td>\n",
       "    </tr>\n",
       "  </tbody>\n",
       "</table>\n",
       "</div>"
      ],
      "text/plain": [
       "   Faces\n",
       "c   Cara\n",
       "C  Coroa"
      ]
     },
     "execution_count": 5,
     "metadata": {},
     "output_type": "execute_result"
    }
   ],
   "source": [
    "df"
   ]
  },
  {
   "cell_type": "code",
   "execution_count": 29,
   "id": "f28f9aef",
   "metadata": {},
   "outputs": [],
   "source": [
    "eventos = {'m1': list(m1), \n",
    "            'm2': list(m2), \n",
    "            'm3': list(m3), \n",
    "            'm4': list(m4), \n",
    "            'm5': list(m5)}"
   ]
  },
  {
   "cell_type": "code",
   "execution_count": 31,
   "id": "198616ea",
   "metadata": {},
   "outputs": [],
   "source": [
    "moedas = pd.DataFrame(eventos)"
   ]
  },
  {
   "cell_type": "code",
   "execution_count": 55,
   "id": "b1764235",
   "metadata": {},
   "outputs": [
    {
     "name": "stdout",
     "output_type": "stream",
     "text": [
      "m1\n",
      "m2\n",
      "m3\n",
      "m4\n",
      "m5\n"
     ]
    }
   ],
   "source": [
    "for item in moedas:\n",
    "    #print(item)\n",
    "    df = pd.concat([df, moedas[item].value_counts()], \n",
    "                    axis = 1)"
   ]
  },
  {
   "cell_type": "code",
   "execution_count": 37,
   "id": "69780e52",
   "metadata": {},
   "outputs": [
    {
     "data": {
      "text/html": [
       "<div>\n",
       "<style scoped>\n",
       "    .dataframe tbody tr th:only-of-type {\n",
       "        vertical-align: middle;\n",
       "    }\n",
       "\n",
       "    .dataframe tbody tr th {\n",
       "        vertical-align: top;\n",
       "    }\n",
       "\n",
       "    .dataframe thead th {\n",
       "        text-align: right;\n",
       "    }\n",
       "</style>\n",
       "<table border=\"1\" class=\"dataframe\">\n",
       "  <thead>\n",
       "    <tr style=\"text-align: right;\">\n",
       "      <th></th>\n",
       "      <th>Faces</th>\n",
       "      <th>m1</th>\n",
       "      <th>m2</th>\n",
       "      <th>m3</th>\n",
       "      <th>m4</th>\n",
       "      <th>m5</th>\n",
       "    </tr>\n",
       "  </thead>\n",
       "  <tbody>\n",
       "    <tr>\n",
       "      <th>c</th>\n",
       "      <td>Cara</td>\n",
       "      <td>25</td>\n",
       "      <td>26</td>\n",
       "      <td>19</td>\n",
       "      <td>23</td>\n",
       "      <td>25</td>\n",
       "    </tr>\n",
       "    <tr>\n",
       "      <th>C</th>\n",
       "      <td>Coroa</td>\n",
       "      <td>25</td>\n",
       "      <td>24</td>\n",
       "      <td>31</td>\n",
       "      <td>27</td>\n",
       "      <td>25</td>\n",
       "    </tr>\n",
       "  </tbody>\n",
       "</table>\n",
       "</div>"
      ],
      "text/plain": [
       "   Faces  m1  m2  m3  m4  m5\n",
       "c   Cara  25  26  19  23  25\n",
       "C  Coroa  25  24  31  27  25"
      ]
     },
     "execution_count": 37,
     "metadata": {},
     "output_type": "execute_result"
    }
   ],
   "source": [
    "df"
   ]
  }
 ],
 "metadata": {
  "kernelspec": {
   "display_name": "Python 3 (ipykernel)",
   "language": "python",
   "name": "python3"
  },
  "language_info": {
   "codemirror_mode": {
    "name": "ipython",
    "version": 3
   },
   "file_extension": ".py",
   "mimetype": "text/x-python",
   "name": "python",
   "nbconvert_exporter": "python",
   "pygments_lexer": "ipython3",
   "version": "3.9.12"
  }
 },
 "nbformat": 4,
 "nbformat_minor": 5
}
