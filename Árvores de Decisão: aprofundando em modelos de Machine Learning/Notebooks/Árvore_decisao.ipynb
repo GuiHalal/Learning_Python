{
 "cells": [
  {
   "cell_type": "markdown",
   "id": "4e0a0418",
   "metadata": {},
   "source": [
    "# Criando uma Árvore de Decisão"
   ]
  },
  {
   "cell_type": "code",
   "execution_count": null,
   "id": "09cd7337",
   "metadata": {},
   "outputs": [],
   "source": [
    "import pandas as pd\n",
    "import matplotlib.pyplot as plt\n",
    "\n",
    "from sklearn.model_selection import StratifiedShuffleSplit\n",
    "from sklearn import tree\n",
    "from sklearn.metrics import accuracy_score\n",
    "from sklearn.metrics import confusion_matrix\n",
    "from sklearn.metrics import precision_score\n",
    "from sklearn.metrics import recall_score\n",
    "from sklearn.ensemble import RandomForestClassifier\n",
    "from sklearn.ensemble import AdaBoostClassifier\n"
   ]
  },
  {
   "cell_type": "code",
   "execution_count": null,
   "id": "f36730c6",
   "metadata": {},
   "outputs": [],
   "source": [
    "dados = pd.read_csv('data/creditcard.csv')\n",
    "dados.head()"
   ]
  },
  {
   "cell_type": "markdown",
   "id": "28f552b6",
   "metadata": {},
   "source": [
    "### O número de: transação, fraudes e dados normais"
   ]
  },
  {
   "cell_type": "code",
   "execution_count": null,
   "id": "0a140a57",
   "metadata": {},
   "outputs": [],
   "source": [
    "dados['Class'].unique()"
   ]
  },
  {
   "cell_type": "code",
   "execution_count": null,
   "id": "acde45ca",
   "metadata": {},
   "outputs": [],
   "source": [
    "n_transacoes = dados['Class'].count()\n",
    "n_fraudes = dados['Class'].sum()\n",
    "n_normais = n_transacoes - n_fraudes\n",
    "\n",
    "fraudes_porc = ((n_fraudes / n_transacoes) *100)\n",
    "normais_porc = (n_normais / n_transacoes) *100\n",
    "\n",
    "\n",
    "print(\"Número de transações: \", n_transacoes)\n",
    "print(\"Número de fraudes: \", n_fraudes, \", \", \"%.2f\" %fraudes_porc, \"%\", sep = \"\")\n",
    "print(\"Número de fraudes: \", n_normais, \", \", \"%.2f\" %normais_porc, \"%\", sep = \"\")"
   ]
  },
  {
   "cell_type": "code",
   "execution_count": null,
   "id": "f0923a6e",
   "metadata": {},
   "outputs": [],
   "source": [
    "x = dados.drop('Class', axis = 1).values\n",
    "y = dados['Class'].values"
   ]
  },
  {
   "cell_type": "markdown",
   "id": "256c3969",
   "metadata": {},
   "source": [
    "## Funções"
   ]
  },
  {
   "cell_type": "markdown",
   "id": "18526386",
   "metadata": {},
   "source": [
    "### Criando uma árvore de decisão com o scikit-learn"
   ]
  },
  {
   "cell_type": "code",
   "execution_count": null,
   "id": "28607875",
   "metadata": {},
   "outputs": [],
   "source": [
    "def executar_validador(x, y):\n",
    "    # Vamos garantir que o meu conjunto vai ter 10%\n",
    "    # das transações de cada uma das classes.\n",
    "    validador = StratifiedShuffleSplit(n_splits=1,\n",
    "                                   test_size=0.1, random_state=0)\n",
    "    validador.split(x, y)\n",
    "    for treino_id, teste_id in validador.split(x, y):\n",
    "        x_train, x_test = x[treino_id], x[teste_id]\n",
    "        y_train, y_test = y[treino_id], y[teste_id]\n",
    "    return x_train, x_test, y_train, y_test"
   ]
  },
  {
   "cell_type": "markdown",
   "id": "8370b673",
   "metadata": {},
   "source": [
    "### Gerando o modelo "
   ]
  },
  {
   "cell_type": "code",
   "execution_count": null,
   "id": "22e0c6ca",
   "metadata": {},
   "outputs": [],
   "source": [
    "def executar_classificador(classificador, x_train, x_test, y_train):\n",
    "    arvore = classificador.fit(x_train, y_train)\n",
    "    y_pred = arvore.predict(x_test)\n",
    "    return y_pred"
   ]
  },
  {
   "cell_type": "markdown",
   "id": "5d31ca98",
   "metadata": {},
   "source": [
    "### Salvando uma imagem da árvore"
   ]
  },
  {
   "cell_type": "code",
   "execution_count": null,
   "id": "f9d65b7c",
   "metadata": {},
   "outputs": [],
   "source": [
    "def salvar_arvore(classificador, nome):\n",
    "    plt.figure(figsize=(200,100))\n",
    "    tree.plot_tree(classificador, filled=True, fontsize=14)\n",
    "    plt.savefig(nome)\n",
    "    plt.close()"
   ]
  },
  {
   "cell_type": "markdown",
   "id": "8bee65dc",
   "metadata": {},
   "source": [
    "### Medindo a acurácia da árvore"
   ]
  },
  {
   "cell_type": "code",
   "execution_count": null,
   "id": "86693b4a",
   "metadata": {},
   "outputs": [],
   "source": [
    "def validar_arvore(y_test, y_pred):\n",
    "    print(\"accuracy_score: \", accuracy_score(y_test, y_pred))\n",
    "    print(\"precision_score: \", precision_score(y_test, y_pred))\n",
    "    print(\"recall_score: \", recall_score(y_test, y_pred))\n",
    "    print(\"confusion_matrix: \\n\", confusion_matrix(y_test, y_pred))\n",
    "    "
   ]
  },
  {
   "cell_type": "markdown",
   "id": "ee2f1ea4",
   "metadata": {},
   "source": [
    "## EXECUTANDO"
   ]
  },
  {
   "cell_type": "markdown",
   "id": "3fad6331",
   "metadata": {},
   "source": [
    "### Execução do validador"
   ]
  },
  {
   "cell_type": "code",
   "execution_count": null,
   "id": "94ebd1f8",
   "metadata": {},
   "outputs": [],
   "source": [
    "x = dados.drop('Class', axis = 1).values\n",
    "y = dados['Class'].values\n",
    "x_train, x_test, y_train, y_test = executar_validador(x, y)"
   ]
  },
  {
   "cell_type": "markdown",
   "id": "d4f655fa",
   "metadata": {},
   "source": [
    "### Execução do classificador `DecisionTreeClassifier()`"
   ]
  },
  {
   "cell_type": "code",
   "execution_count": null,
   "id": "fdc00609",
   "metadata": {},
   "outputs": [],
   "source": [
    "classificador_arvore_decisao = tree.DecisionTreeClassifier()\n",
    "y_pred_arvore_decisao = executar_classificador(\n",
    "    classificador_arvore_decisao, x_train, x_test, y_train)"
   ]
  },
  {
   "cell_type": "markdown",
   "id": "2659051f",
   "metadata": {},
   "source": [
    "### Criando a figura da árvore de decisão"
   ]
  },
  {
   "cell_type": "code",
   "execution_count": null,
   "id": "2dbb4d12",
   "metadata": {},
   "outputs": [],
   "source": [
    "salvar_arvore(classificador_arvore_decisao, 'arvore_decisao1.png')"
   ]
  },
  {
   "cell_type": "markdown",
   "id": "a52b88cc",
   "metadata": {},
   "source": [
    "### validacao da árvore de decisão\n"
   ]
  },
  {
   "cell_type": "code",
   "execution_count": null,
   "id": "d9998e88",
   "metadata": {},
   "outputs": [],
   "source": [
    "validar_arvore(y_test, y_pred_arvore_decisao)"
   ]
  },
  {
   "cell_type": "markdown",
   "id": "31f5d21c",
   "metadata": {},
   "source": [
    "<img src=\"data/Aula3_video2_imagem1.png\">"
   ]
  },
  {
   "cell_type": "markdown",
   "id": "9e4d109c",
   "metadata": {},
   "source": [
    "### Verificando os parâmetros"
   ]
  },
  {
   "cell_type": "code",
   "execution_count": null,
   "id": "5b4eb96e",
   "metadata": {},
   "outputs": [],
   "source": [
    "print(\"Parâmetros: \\n\", classificador_arvore_decisao.get_params())\n",
    "\n",
    "print(\"\\nProfundidade:\", classificador_arvore_decisao.get_depth())"
   ]
  },
  {
   "cell_type": "markdown",
   "id": "0f06e6fa",
   "metadata": {},
   "source": [
    "### Limitando a profundidade da árvore em 10"
   ]
  },
  {
   "cell_type": "code",
   "execution_count": null,
   "id": "35e2bb6a",
   "metadata": {},
   "outputs": [],
   "source": [
    "classificador_arvore_decisao_2 = tree.DecisionTreeClassifier(max_depth=10, \n",
    "                                                           random_state=0)\n",
    "y_pred_arvore_decisao_2 = executar_classificador(\n",
    "    classificador_arvore_decisao_2, x_train, x_test, y_train)"
   ]
  },
  {
   "cell_type": "code",
   "execution_count": null,
   "id": "8e7f3fe9",
   "metadata": {},
   "outputs": [],
   "source": [
    "validar_arvore(y_test, y_pred_arvore_decisao_2)"
   ]
  },
  {
   "cell_type": "markdown",
   "id": "418346eb",
   "metadata": {},
   "source": [
    "### Set o número mínimo de 10 instâncias em cada nó"
   ]
  },
  {
   "cell_type": "code",
   "execution_count": null,
   "id": "d3b408b5",
   "metadata": {},
   "outputs": [],
   "source": [
    "classificador_arvore_decisao_3 = tree.DecisionTreeClassifier(max_depth=10,\n",
    "                                                             min_samples_leaf=10,\n",
    "                                                           random_state=0)\n",
    "y_pred_arvore_decisao_3 = executar_classificador(\n",
    "    classificador_arvore_decisao_3, x_train, x_test, y_train)"
   ]
  },
  {
   "cell_type": "code",
   "execution_count": null,
   "id": "a23c3770",
   "metadata": {},
   "outputs": [],
   "source": [
    "validar_arvore(y_test, y_pred_arvore_decisao_3)"
   ]
  },
  {
   "cell_type": "markdown",
   "id": "c3a6606f",
   "metadata": {},
   "source": [
    "### Das características que vimos e dessas mudanças que fizemos, o que funcionou o melhor para nós e para nossa árvore foi determinar somente a profundidade máxima igual a 10. "
   ]
  },
  {
   "cell_type": "code",
   "execution_count": null,
   "id": "cd7c24ee",
   "metadata": {},
   "outputs": [],
   "source": [
    "classificador_arvore_decisao_4 = tree.DecisionTreeClassifier(max_depth=5,\n",
    "                                                             random_state=0)\n",
    "y_pred_arvore_decisao_4 = executar_classificador(\n",
    "    classificador_arvore_decisao_4, x_train, x_test, y_train)"
   ]
  },
  {
   "cell_type": "code",
   "execution_count": null,
   "id": "f7f69abc",
   "metadata": {},
   "outputs": [],
   "source": [
    "validar_arvore(y_test, y_pred_arvore_decisao_4)"
   ]
  },
  {
   "cell_type": "markdown",
   "id": "c28a96b1",
   "metadata": {},
   "source": [
    "## Bagging e o Random Forest"
   ]
  },
  {
   "cell_type": "markdown",
   "id": "d6659519",
   "metadata": {},
   "source": [
    "### Executando o Random Forest com o scikit-learn"
   ]
  },
  {
   "cell_type": "code",
   "execution_count": null,
   "id": "a660c32b",
   "metadata": {},
   "outputs": [],
   "source": [
    "%%time\n",
    "cassificador_random_forest = RandomForestClassifier(n_estimators=100, random_state=0)\n",
    "\n",
    "y_pred_random_forest = executar_classificador (cassificador_random_forest, x_train, x_test, y_train)"
   ]
  },
  {
   "cell_type": "code",
   "execution_count": null,
   "id": "fd0f4332",
   "metadata": {},
   "outputs": [],
   "source": [
    "# salvar_arvore(classificador_random_forest.estimators_[0], \"random_forest1\")\n",
    "# salvar_arvore(classificador_random_forest.estimators_[1], \"random_forest2\")"
   ]
  },
  {
   "cell_type": "code",
   "execution_count": null,
   "id": "7d77413e",
   "metadata": {},
   "outputs": [],
   "source": [
    "validar_arvore(y_test, y_pred_random_forest)"
   ]
  },
  {
   "cell_type": "code",
   "execution_count": null,
   "id": "2dcc997b",
   "metadata": {},
   "outputs": [],
   "source": [
    "%%time\n",
    "cassificador_random_forest_2 = RandomForestClassifier(n_estimators=50,max_depth=10, random_state=0)\n",
    "\n",
    "y_pred_random_forest_2 = executar_classificador (cassificador_random_forest_2, x_train, x_test, y_train)"
   ]
  },
  {
   "cell_type": "code",
   "execution_count": null,
   "id": "def93c3a",
   "metadata": {},
   "outputs": [],
   "source": [
    "validar_arvore(y_test, y_pred_random_forest_2)"
   ]
  },
  {
   "cell_type": "markdown",
   "id": "e8f7fa5b",
   "metadata": {},
   "source": [
    "## AdaBoost"
   ]
  },
  {
   "cell_type": "code",
   "execution_count": null,
   "id": "0215c6e0",
   "metadata": {},
   "outputs": [],
   "source": [
    "%%time\n",
    "classificador_adaboost = AdaBoostClassifier(random_state=0)\n",
    "y_pred_adaboost = executar_classificador(classificador_adaboost, x_train, x_test, y_train)"
   ]
  },
  {
   "cell_type": "code",
   "execution_count": null,
   "id": "b4d1af11",
   "metadata": {},
   "outputs": [],
   "source": [
    "validar_arvore(y_test, y_pred_adaboost)"
   ]
  },
  {
   "cell_type": "code",
   "execution_count": null,
   "id": "2964f824",
   "metadata": {},
   "outputs": [],
   "source": [
    "%%time\n",
    "classificador_adaboost2 = AdaBoostClassifier(random_state=0, n_estimators=100)\n",
    "y_pred_adaboost2 = executar_classificador(classificador_adaboost2, x_train, x_test, y_train)"
   ]
  },
  {
   "cell_type": "code",
   "execution_count": null,
   "id": "41c1c70f",
   "metadata": {},
   "outputs": [],
   "source": [
    "validar_arvore(y_test, y_pred_adaboost2)"
   ]
  },
  {
   "cell_type": "code",
   "execution_count": null,
   "id": "885d176c",
   "metadata": {},
   "outputs": [],
   "source": [
    "%%time\n",
    "classificador_adaboost3 = AdaBoostClassifier(random_state=0, n_estimators=200)\n",
    "y_pred_adaboost3 = executar_classificador(classificador_adaboost3, x_train, x_test, y_train)"
   ]
  },
  {
   "cell_type": "code",
   "execution_count": null,
   "id": "f3b6f095",
   "metadata": {},
   "outputs": [],
   "source": [
    "validar_arvore(y_test, y_pred_adaboost3)"
   ]
  }
 ],
 "metadata": {
  "kernelspec": {
   "display_name": "Python 3 (ipykernel)",
   "language": "python",
   "name": "python3"
  },
  "language_info": {
   "codemirror_mode": {
    "name": "ipython",
    "version": 3
   },
   "file_extension": ".py",
   "mimetype": "text/x-python",
   "name": "python",
   "nbconvert_exporter": "python",
   "pygments_lexer": "ipython3",
   "version": "3.9.12"
  }
 },
 "nbformat": 4,
 "nbformat_minor": 5
}
