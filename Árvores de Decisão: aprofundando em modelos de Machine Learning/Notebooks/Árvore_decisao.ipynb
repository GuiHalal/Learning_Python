{
 "cells": [
  {
   "cell_type": "markdown",
   "id": "4e0a0418",
   "metadata": {},
   "source": [
    "# Criando uma Árvore de Decisão"
   ]
  },
  {
   "cell_type": "code",
   "execution_count": 1,
   "id": "09cd7337",
   "metadata": {},
   "outputs": [],
   "source": [
    "import pandas as pd\n",
    "import matplotlib.pyplot as plt\n",
    "\n",
    "from sklearn.model_selection import StratifiedShuffleSplit\n",
    "from sklearn import tree\n",
    "from sklearn.metrics import accuracy_score\n",
    "from sklearn.metrics import confusion_matrix\n",
    "from sklearn.metrics import precision_score\n",
    "from sklearn.metrics import recall_score\n",
    "\n",
    "\n"
   ]
  },
  {
   "cell_type": "code",
   "execution_count": 2,
   "id": "f36730c6",
   "metadata": {},
   "outputs": [
    {
     "data": {
      "text/html": [
       "<div>\n",
       "<style scoped>\n",
       "    .dataframe tbody tr th:only-of-type {\n",
       "        vertical-align: middle;\n",
       "    }\n",
       "\n",
       "    .dataframe tbody tr th {\n",
       "        vertical-align: top;\n",
       "    }\n",
       "\n",
       "    .dataframe thead th {\n",
       "        text-align: right;\n",
       "    }\n",
       "</style>\n",
       "<table border=\"1\" class=\"dataframe\">\n",
       "  <thead>\n",
       "    <tr style=\"text-align: right;\">\n",
       "      <th></th>\n",
       "      <th>Time</th>\n",
       "      <th>V1</th>\n",
       "      <th>V2</th>\n",
       "      <th>V3</th>\n",
       "      <th>V4</th>\n",
       "      <th>V5</th>\n",
       "      <th>V6</th>\n",
       "      <th>V7</th>\n",
       "      <th>V8</th>\n",
       "      <th>V9</th>\n",
       "      <th>...</th>\n",
       "      <th>V21</th>\n",
       "      <th>V22</th>\n",
       "      <th>V23</th>\n",
       "      <th>V24</th>\n",
       "      <th>V25</th>\n",
       "      <th>V26</th>\n",
       "      <th>V27</th>\n",
       "      <th>V28</th>\n",
       "      <th>Amount</th>\n",
       "      <th>Class</th>\n",
       "    </tr>\n",
       "  </thead>\n",
       "  <tbody>\n",
       "    <tr>\n",
       "      <th>0</th>\n",
       "      <td>0.0</td>\n",
       "      <td>-1.359807</td>\n",
       "      <td>-0.072781</td>\n",
       "      <td>2.536347</td>\n",
       "      <td>1.378155</td>\n",
       "      <td>-0.338321</td>\n",
       "      <td>0.462388</td>\n",
       "      <td>0.239599</td>\n",
       "      <td>0.098698</td>\n",
       "      <td>0.363787</td>\n",
       "      <td>...</td>\n",
       "      <td>-0.018307</td>\n",
       "      <td>0.277838</td>\n",
       "      <td>-0.110474</td>\n",
       "      <td>0.066928</td>\n",
       "      <td>0.128539</td>\n",
       "      <td>-0.189115</td>\n",
       "      <td>0.133558</td>\n",
       "      <td>-0.021053</td>\n",
       "      <td>149.62</td>\n",
       "      <td>0</td>\n",
       "    </tr>\n",
       "    <tr>\n",
       "      <th>1</th>\n",
       "      <td>0.0</td>\n",
       "      <td>1.191857</td>\n",
       "      <td>0.266151</td>\n",
       "      <td>0.166480</td>\n",
       "      <td>0.448154</td>\n",
       "      <td>0.060018</td>\n",
       "      <td>-0.082361</td>\n",
       "      <td>-0.078803</td>\n",
       "      <td>0.085102</td>\n",
       "      <td>-0.255425</td>\n",
       "      <td>...</td>\n",
       "      <td>-0.225775</td>\n",
       "      <td>-0.638672</td>\n",
       "      <td>0.101288</td>\n",
       "      <td>-0.339846</td>\n",
       "      <td>0.167170</td>\n",
       "      <td>0.125895</td>\n",
       "      <td>-0.008983</td>\n",
       "      <td>0.014724</td>\n",
       "      <td>2.69</td>\n",
       "      <td>0</td>\n",
       "    </tr>\n",
       "    <tr>\n",
       "      <th>2</th>\n",
       "      <td>1.0</td>\n",
       "      <td>-1.358354</td>\n",
       "      <td>-1.340163</td>\n",
       "      <td>1.773209</td>\n",
       "      <td>0.379780</td>\n",
       "      <td>-0.503198</td>\n",
       "      <td>1.800499</td>\n",
       "      <td>0.791461</td>\n",
       "      <td>0.247676</td>\n",
       "      <td>-1.514654</td>\n",
       "      <td>...</td>\n",
       "      <td>0.247998</td>\n",
       "      <td>0.771679</td>\n",
       "      <td>0.909412</td>\n",
       "      <td>-0.689281</td>\n",
       "      <td>-0.327642</td>\n",
       "      <td>-0.139097</td>\n",
       "      <td>-0.055353</td>\n",
       "      <td>-0.059752</td>\n",
       "      <td>378.66</td>\n",
       "      <td>0</td>\n",
       "    </tr>\n",
       "    <tr>\n",
       "      <th>3</th>\n",
       "      <td>1.0</td>\n",
       "      <td>-0.966272</td>\n",
       "      <td>-0.185226</td>\n",
       "      <td>1.792993</td>\n",
       "      <td>-0.863291</td>\n",
       "      <td>-0.010309</td>\n",
       "      <td>1.247203</td>\n",
       "      <td>0.237609</td>\n",
       "      <td>0.377436</td>\n",
       "      <td>-1.387024</td>\n",
       "      <td>...</td>\n",
       "      <td>-0.108300</td>\n",
       "      <td>0.005274</td>\n",
       "      <td>-0.190321</td>\n",
       "      <td>-1.175575</td>\n",
       "      <td>0.647376</td>\n",
       "      <td>-0.221929</td>\n",
       "      <td>0.062723</td>\n",
       "      <td>0.061458</td>\n",
       "      <td>123.50</td>\n",
       "      <td>0</td>\n",
       "    </tr>\n",
       "    <tr>\n",
       "      <th>4</th>\n",
       "      <td>2.0</td>\n",
       "      <td>-1.158233</td>\n",
       "      <td>0.877737</td>\n",
       "      <td>1.548718</td>\n",
       "      <td>0.403034</td>\n",
       "      <td>-0.407193</td>\n",
       "      <td>0.095921</td>\n",
       "      <td>0.592941</td>\n",
       "      <td>-0.270533</td>\n",
       "      <td>0.817739</td>\n",
       "      <td>...</td>\n",
       "      <td>-0.009431</td>\n",
       "      <td>0.798278</td>\n",
       "      <td>-0.137458</td>\n",
       "      <td>0.141267</td>\n",
       "      <td>-0.206010</td>\n",
       "      <td>0.502292</td>\n",
       "      <td>0.219422</td>\n",
       "      <td>0.215153</td>\n",
       "      <td>69.99</td>\n",
       "      <td>0</td>\n",
       "    </tr>\n",
       "  </tbody>\n",
       "</table>\n",
       "<p>5 rows × 31 columns</p>\n",
       "</div>"
      ],
      "text/plain": [
       "   Time        V1        V2        V3        V4        V5        V6        V7  \\\n",
       "0   0.0 -1.359807 -0.072781  2.536347  1.378155 -0.338321  0.462388  0.239599   \n",
       "1   0.0  1.191857  0.266151  0.166480  0.448154  0.060018 -0.082361 -0.078803   \n",
       "2   1.0 -1.358354 -1.340163  1.773209  0.379780 -0.503198  1.800499  0.791461   \n",
       "3   1.0 -0.966272 -0.185226  1.792993 -0.863291 -0.010309  1.247203  0.237609   \n",
       "4   2.0 -1.158233  0.877737  1.548718  0.403034 -0.407193  0.095921  0.592941   \n",
       "\n",
       "         V8        V9  ...       V21       V22       V23       V24       V25  \\\n",
       "0  0.098698  0.363787  ... -0.018307  0.277838 -0.110474  0.066928  0.128539   \n",
       "1  0.085102 -0.255425  ... -0.225775 -0.638672  0.101288 -0.339846  0.167170   \n",
       "2  0.247676 -1.514654  ...  0.247998  0.771679  0.909412 -0.689281 -0.327642   \n",
       "3  0.377436 -1.387024  ... -0.108300  0.005274 -0.190321 -1.175575  0.647376   \n",
       "4 -0.270533  0.817739  ... -0.009431  0.798278 -0.137458  0.141267 -0.206010   \n",
       "\n",
       "        V26       V27       V28  Amount  Class  \n",
       "0 -0.189115  0.133558 -0.021053  149.62      0  \n",
       "1  0.125895 -0.008983  0.014724    2.69      0  \n",
       "2 -0.139097 -0.055353 -0.059752  378.66      0  \n",
       "3 -0.221929  0.062723  0.061458  123.50      0  \n",
       "4  0.502292  0.219422  0.215153   69.99      0  \n",
       "\n",
       "[5 rows x 31 columns]"
      ]
     },
     "execution_count": 2,
     "metadata": {},
     "output_type": "execute_result"
    }
   ],
   "source": [
    "dados = pd.read_csv('data/creditcard.csv')\n",
    "dados.head()"
   ]
  },
  {
   "cell_type": "markdown",
   "id": "28f552b6",
   "metadata": {},
   "source": [
    "### O número de: transação, fraudes e dados normais"
   ]
  },
  {
   "cell_type": "code",
   "execution_count": 3,
   "id": "0a140a57",
   "metadata": {},
   "outputs": [
    {
     "data": {
      "text/plain": [
       "array([0, 1])"
      ]
     },
     "execution_count": 3,
     "metadata": {},
     "output_type": "execute_result"
    }
   ],
   "source": [
    "dados['Class'].unique()"
   ]
  },
  {
   "cell_type": "code",
   "execution_count": 4,
   "id": "acde45ca",
   "metadata": {},
   "outputs": [
    {
     "name": "stdout",
     "output_type": "stream",
     "text": [
      "Número de transações:  284807\n",
      "Número de fraudes: 492, 0.17%\n",
      "Número de fraudes: 284315, 99.83%\n"
     ]
    }
   ],
   "source": [
    "n_transacoes = dados['Class'].count()\n",
    "n_fraudes = dados['Class'].sum()\n",
    "n_normais = n_transacoes - n_fraudes\n",
    "\n",
    "fraudes_porc = ((n_fraudes / n_transacoes) *100)\n",
    "normais_porc = (n_normais / n_transacoes) *100\n",
    "\n",
    "\n",
    "print(\"Número de transações: \", n_transacoes)\n",
    "print(\"Número de fraudes: \", n_fraudes, \", \", \"%.2f\" %fraudes_porc, \"%\", sep = \"\")\n",
    "print(\"Número de fraudes: \", n_normais, \", \", \"%.2f\" %normais_porc, \"%\", sep = \"\")"
   ]
  },
  {
   "cell_type": "code",
   "execution_count": 5,
   "id": "f0923a6e",
   "metadata": {},
   "outputs": [],
   "source": [
    "x = dados.drop('Class', axis = 1).values\n",
    "y = dados['Class'].values"
   ]
  },
  {
   "cell_type": "markdown",
   "id": "256c3969",
   "metadata": {},
   "source": [
    "## Funções"
   ]
  },
  {
   "cell_type": "markdown",
   "id": "18526386",
   "metadata": {},
   "source": [
    "### Criando uma árvore de decisão com o scikit-learn"
   ]
  },
  {
   "cell_type": "code",
   "execution_count": 6,
   "id": "28607875",
   "metadata": {},
   "outputs": [],
   "source": [
    "def executar_validador(x, y):\n",
    "    # Vamos garantir que o meu conjunto vai ter 10%\n",
    "    # das transações de cada uma das classes.\n",
    "    validador = StratifiedShuffleSplit(n_splits=1,\n",
    "                                   test_size=0.1, random_state=0)\n",
    "    validador.split(x, y)\n",
    "    for treino_id, teste_id in validador.split(x, y):\n",
    "        x_train, x_test = x[treino_id], x[teste_id]\n",
    "        y_train, y_test = y[treino_id], y[teste_id]\n",
    "    return x_train, x_test, y_train, y_test"
   ]
  },
  {
   "cell_type": "markdown",
   "id": "8370b673",
   "metadata": {},
   "source": [
    "### Gerando o modelo "
   ]
  },
  {
   "cell_type": "code",
   "execution_count": 7,
   "id": "22e0c6ca",
   "metadata": {},
   "outputs": [],
   "source": [
    "def executar_classificador(classificador, x_train, x_test, y_train):\n",
    "    arvore = classificador.fit(x_train, y_train)\n",
    "    y_pred = arvore.predict(x_test)\n",
    "    return y_pred"
   ]
  },
  {
   "cell_type": "markdown",
   "id": "5d31ca98",
   "metadata": {},
   "source": [
    "### Salvando uma imagem da árvore"
   ]
  },
  {
   "cell_type": "code",
   "execution_count": 8,
   "id": "f9d65b7c",
   "metadata": {},
   "outputs": [],
   "source": [
    "def salvar_arvore(classificador, nome):\n",
    "    plt.figure(figsize=(200,100))\n",
    "    tree.plot_tree(classificador, filled=True, fontsize=14)\n",
    "    plt.savefig(nome)\n",
    "    plt.close()"
   ]
  },
  {
   "cell_type": "markdown",
   "id": "8bee65dc",
   "metadata": {},
   "source": [
    "### Medindo a acurácia da árvore"
   ]
  },
  {
   "cell_type": "code",
   "execution_count": 9,
   "id": "86693b4a",
   "metadata": {},
   "outputs": [],
   "source": [
    "def validar_arvore(y_test, y_pred):\n",
    "    print(\"accuracy_score: \", accuracy_score(y_test, y_pred))\n",
    "    print(\"precision_score: \", precision_score(y_test, y_pred))\n",
    "    print(\"recall_score: \", recall_score(y_test, y_pred))\n",
    "    print(\"confusion_matrix: \\n\", confusion_matrix(y_test, y_pred))\n",
    "    "
   ]
  },
  {
   "cell_type": "markdown",
   "id": "ee2f1ea4",
   "metadata": {},
   "source": [
    "## EXECUTANDO"
   ]
  },
  {
   "cell_type": "markdown",
   "id": "3fad6331",
   "metadata": {},
   "source": [
    "### Execução do validador"
   ]
  },
  {
   "cell_type": "code",
   "execution_count": 10,
   "id": "94ebd1f8",
   "metadata": {},
   "outputs": [],
   "source": [
    "x = dados.drop('Class', axis = 1).values\n",
    "y = dados['Class'].values\n",
    "x_train, x_test, y_train, y_test = executar_validador(x, y)"
   ]
  },
  {
   "cell_type": "markdown",
   "id": "d4f655fa",
   "metadata": {},
   "source": [
    "### Execução do classificador `DecisionTreeClassifier()`"
   ]
  },
  {
   "cell_type": "code",
   "execution_count": 11,
   "id": "fdc00609",
   "metadata": {},
   "outputs": [],
   "source": [
    "classificador_arvore_decisao = tree.DecisionTreeClassifier()\n",
    "y_pred_arvore_decisao = executar_classificador(\n",
    "    classificador_arvore_decisao, x_train, x_test, y_train)"
   ]
  },
  {
   "cell_type": "markdown",
   "id": "2659051f",
   "metadata": {},
   "source": [
    "### Criando a figura da árvore de decisão"
   ]
  },
  {
   "cell_type": "code",
   "execution_count": 12,
   "id": "2dbb4d12",
   "metadata": {},
   "outputs": [],
   "source": [
    "salvar_arvore(classificador_arvore_decisao, 'arvore_decisao1.png')"
   ]
  },
  {
   "cell_type": "markdown",
   "id": "a52b88cc",
   "metadata": {},
   "source": [
    "### validacao da árvore de decisão\n"
   ]
  },
  {
   "cell_type": "code",
   "execution_count": 13,
   "id": "d9998e88",
   "metadata": {},
   "outputs": [
    {
     "name": "stdout",
     "output_type": "stream",
     "text": [
      "accuracy_score:  0.9989817773252344\n",
      "precision_score:  0.7083333333333334\n",
      "recall_score:  0.6938775510204082\n",
      "confusion_matrix: \n",
      " [[28418    14]\n",
      " [   15    34]]\n"
     ]
    }
   ],
   "source": [
    "validar_arvore(y_test, y_pred_arvore_decisao)"
   ]
  },
  {
   "cell_type": "markdown",
   "id": "31f5d21c",
   "metadata": {},
   "source": [
    "<img src=\"data/Aula3_video2_imagem1.png\">"
   ]
  },
  {
   "cell_type": "markdown",
   "id": "9e4d109c",
   "metadata": {},
   "source": [
    "### Verificando os parâmetros"
   ]
  },
  {
   "cell_type": "code",
   "execution_count": 14,
   "id": "5b4eb96e",
   "metadata": {},
   "outputs": [
    {
     "name": "stdout",
     "output_type": "stream",
     "text": [
      "Parâmetros: \n",
      " {'ccp_alpha': 0.0, 'class_weight': None, 'criterion': 'gini', 'max_depth': None, 'max_features': None, 'max_leaf_nodes': None, 'min_impurity_decrease': 0.0, 'min_samples_leaf': 1, 'min_samples_split': 2, 'min_weight_fraction_leaf': 0.0, 'random_state': None, 'splitter': 'best'}\n",
      "\n",
      "Profundidade: 21\n"
     ]
    }
   ],
   "source": [
    "print(\"Parâmetros: \\n\", classificador_arvore_decisao.get_params())\n",
    "\n",
    "print(\"\\nProfundidade:\", classificador_arvore_decisao.get_depth())"
   ]
  },
  {
   "cell_type": "markdown",
   "id": "0f06e6fa",
   "metadata": {},
   "source": [
    "### Limitando a profundidade da árvore em 10"
   ]
  },
  {
   "cell_type": "code",
   "execution_count": 15,
   "id": "35e2bb6a",
   "metadata": {},
   "outputs": [],
   "source": [
    "classificador_arvore_decisao_2 = tree.DecisionTreeClassifier(max_depth=10, \n",
    "                                                           random_state=0)\n",
    "y_pred_arvore_decisao_2 = executar_classificador(\n",
    "    classificador_arvore_decisao_2, x_train, x_test, y_train)"
   ]
  },
  {
   "cell_type": "code",
   "execution_count": 16,
   "id": "8e7f3fe9",
   "metadata": {},
   "outputs": [
    {
     "name": "stdout",
     "output_type": "stream",
     "text": [
      "accuracy_score:  0.9994733330992591\n",
      "precision_score:  0.9473684210526315\n",
      "recall_score:  0.7346938775510204\n",
      "confusion_matrix: \n",
      " [[28430     2]\n",
      " [   13    36]]\n"
     ]
    }
   ],
   "source": [
    "validar_arvore(y_test, y_pred_arvore_decisao_2)"
   ]
  },
  {
   "cell_type": "markdown",
   "id": "418346eb",
   "metadata": {},
   "source": [
    "### Set o número mínimo de 10 instâncias em cada nó"
   ]
  },
  {
   "cell_type": "code",
   "execution_count": 17,
   "id": "d3b408b5",
   "metadata": {},
   "outputs": [],
   "source": [
    "classificador_arvore_decisao_3 = tree.DecisionTreeClassifier(max_depth=10,\n",
    "                                                             min_samples_leaf=10,\n",
    "                                                           random_state=0)\n",
    "y_pred_arvore_decisao_3 = executar_classificador(\n",
    "    classificador_arvore_decisao_3, x_train, x_test, y_train)"
   ]
  },
  {
   "cell_type": "code",
   "execution_count": 18,
   "id": "a23c3770",
   "metadata": {},
   "outputs": [
    {
     "name": "stdout",
     "output_type": "stream",
     "text": [
      "accuracy_score:  0.9993679997191109\n",
      "precision_score:  0.8604651162790697\n",
      "recall_score:  0.7551020408163265\n",
      "confusion_matrix: \n",
      " [[28426     6]\n",
      " [   12    37]]\n"
     ]
    }
   ],
   "source": [
    "validar_arvore(y_test, y_pred_arvore_decisao_3)"
   ]
  },
  {
   "cell_type": "markdown",
   "id": "c3a6606f",
   "metadata": {},
   "source": [
    "### Das características que vimos e dessas mudanças que fizemos, o que funcionou o melhor para nós e para nossa árvore foi determinar somente a profundidade máxima igual a 10. "
   ]
  }
 ],
 "metadata": {
  "kernelspec": {
   "display_name": "Python 3 (ipykernel)",
   "language": "python",
   "name": "python3"
  },
  "language_info": {
   "codemirror_mode": {
    "name": "ipython",
    "version": 3
   },
   "file_extension": ".py",
   "mimetype": "text/x-python",
   "name": "python",
   "nbconvert_exporter": "python",
   "pygments_lexer": "ipython3",
   "version": "3.9.12"
  }
 },
 "nbformat": 4,
 "nbformat_minor": 5
}
