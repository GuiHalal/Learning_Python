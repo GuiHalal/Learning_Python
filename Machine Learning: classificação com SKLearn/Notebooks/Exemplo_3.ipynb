{
 "cells": [
  {
   "cell_type": "code",
   "execution_count": null,
   "id": "aa204356",
   "metadata": {},
   "outputs": [],
   "source": [
    "import pandas as pd\n",
    "import seaborn as sns\n",
    "from sklearn.model_selection import train_test_split\n",
    "from sklearn.svm import LinearSVC\n",
    "from sklearn.metrics import accuracy_score\n",
    "\n",
    "SEED = 20\n",
    "\n",
    "uri = \"https://gist.githubusercontent.com/guilhermesilveira/1b7d5475863c15f484ac495bd70975cf/raw/16aff7a0aee67e7c100a2a48b676a2d2d142f646/projects.csv\"\n",
    "dados = pd.read_csv(uri)\n",
    "dados.head()\n"
   ]
  },
  {
   "cell_type": "code",
   "execution_count": null,
   "id": "05ce31b8",
   "metadata": {},
   "outputs": [],
   "source": [
    "a_renomear = {\n",
    "    'expected_hours' : 'horas_esperadas',\n",
    "    'price' : 'preco',\n",
    "    'unfinished' : 'nao_finalizado'\n",
    "}\n",
    "dados.rename(columns = a_renomear, inplace = True)\n",
    "dados.head()"
   ]
  },
  {
   "cell_type": "markdown",
   "id": "42dd6db9",
   "metadata": {},
   "source": [
    "A coluna nao_finalizado não é muito intuitiva\n",
    "\n",
    "0: finalizados 1: não finalizados. \n",
    "\n",
    "Criaremos uma nova coluna chamada *finalizados*, trocaremos os valores 0 e 1, usando a função `.map()`."
   ]
  },
  {
   "cell_type": "code",
   "execution_count": null,
   "id": "aef26ed1",
   "metadata": {
    "scrolled": true
   },
   "outputs": [],
   "source": [
    "troca = {\n",
    "    0 : 1,\n",
    "    1 : 0\n",
    "}\n",
    "dados['finalizado'] = dados.nao_finalizado.map(troca)\n",
    "dados.head()"
   ]
  },
  {
   "cell_type": "code",
   "execution_count": null,
   "id": "f9d51bef",
   "metadata": {},
   "outputs": [],
   "source": [
    "sns.scatterplot(x=\"horas_esperadas\", y=\"preco\", data=dados)"
   ]
  },
  {
   "cell_type": "code",
   "execution_count": null,
   "id": "ce681da0",
   "metadata": {},
   "outputs": [],
   "source": [
    "sns.scatterplot(x=\"horas_esperadas\", y=\"preco\", hue=\"finalizado\", data=dados)\n"
   ]
  },
  {
   "cell_type": "code",
   "execution_count": null,
   "id": "ab6489c9",
   "metadata": {},
   "outputs": [],
   "source": [
    "sns.relplot(x=\"horas_esperadas\", y=\"preco\", col=\"finalizado\", data=dados)"
   ]
  },
  {
   "cell_type": "code",
   "execution_count": null,
   "id": "3c048faf",
   "metadata": {},
   "outputs": [],
   "source": [
    "sns.relplot(x=\"horas_esperadas\", y=\"preco\", hue=\"finalizado\", col=\"finalizado\", data=dados)\n"
   ]
  },
  {
   "cell_type": "code",
   "execution_count": null,
   "id": "592619d1",
   "metadata": {},
   "outputs": [],
   "source": [
    "x = dados[['horas_esperadas', 'preco']]\n",
    "y = dados['finalizado']"
   ]
  },
  {
   "cell_type": "code",
   "execution_count": null,
   "id": "c9d0a1c9",
   "metadata": {},
   "outputs": [],
   "source": [
    "treino_x, teste_x, treino_y, teste_y = train_test_split(x, y,\n",
    "                                                         random_state = SEED, test_size = 0.25,\n",
    "                                                         stratify = y)\n",
    "print(\"Treinaremos com %d elementos e testaremos com %d elementos\" % (len(treino_x), len(teste_x)))\n",
    "\n",
    "# modelo = LinearSVC(max_iter = 100000)\n",
    "modelo = LinearSVC()\n",
    "\n",
    "modelo.fit(treino_x, treino_y)\n",
    "previsoes = modelo.predict(teste_x)\n",
    "\n",
    "acuracia = accuracy_score(teste_y, previsoes) * 100\n",
    "print(\"A acurácia foi %.2f%%\" % acuracia)"
   ]
  },
  {
   "cell_type": "code",
   "execution_count": null,
   "id": "fb177779",
   "metadata": {},
   "outputs": [],
   "source": []
  }
 ],
 "metadata": {
  "kernelspec": {
   "display_name": "Python 3 (ipykernel)",
   "language": "python",
   "name": "python3"
  },
  "language_info": {
   "codemirror_mode": {
    "name": "ipython",
    "version": 3
   },
   "file_extension": ".py",
   "mimetype": "text/x-python",
   "name": "python",
   "nbconvert_exporter": "python",
   "pygments_lexer": "ipython3",
   "version": "3.9.12"
  }
 },
 "nbformat": 4,
 "nbformat_minor": 5
}
