{
 "cells": [
  {
   "cell_type": "code",
   "execution_count": 1,
   "id": "fffd8164",
   "metadata": {},
   "outputs": [],
   "source": [
    "import pandas as pd"
   ]
  },
  {
   "cell_type": "code",
   "execution_count": 2,
   "id": "b273a93d",
   "metadata": {},
   "outputs": [],
   "source": [
    "url = 'https://raw.githubusercontent.com/alura-cursos/credit_scoring/main/base_dados_traduzida.csv'\n",
    "dados = pd.read_csv(url)"
   ]
  },
  {
   "cell_type": "code",
   "execution_count": 3,
   "id": "83921a95",
   "metadata": {},
   "outputs": [
    {
     "data": {
      "text/html": [
       "<div>\n",
       "<style scoped>\n",
       "    .dataframe tbody tr th:only-of-type {\n",
       "        vertical-align: middle;\n",
       "    }\n",
       "\n",
       "    .dataframe tbody tr th {\n",
       "        vertical-align: top;\n",
       "    }\n",
       "\n",
       "    .dataframe thead th {\n",
       "        text-align: right;\n",
       "    }\n",
       "</style>\n",
       "<table border=\"1\" class=\"dataframe\">\n",
       "  <thead>\n",
       "    <tr style=\"text-align: right;\">\n",
       "      <th></th>\n",
       "      <th>default</th>\n",
       "      <th>conta_corrente</th>\n",
       "      <th>prazo_emprestimo_meses</th>\n",
       "      <th>historico_credito</th>\n",
       "      <th>proposito_emprestimo</th>\n",
       "      <th>valor_emprestimo</th>\n",
       "      <th>reserva_cc</th>\n",
       "      <th>tempo_emprego_atual</th>\n",
       "      <th>taxa_comp_salario</th>\n",
       "      <th>sexo_est_civil</th>\n",
       "      <th>...</th>\n",
       "      <th>anos_residencia_atual</th>\n",
       "      <th>propriedade</th>\n",
       "      <th>idade</th>\n",
       "      <th>outros_planos_financiamento</th>\n",
       "      <th>tipo_residencia</th>\n",
       "      <th>n_creditos_banco</th>\n",
       "      <th>status_emprego</th>\n",
       "      <th>n_dependentes</th>\n",
       "      <th>telefone</th>\n",
       "      <th>trabalhador_estrangeiro</th>\n",
       "    </tr>\n",
       "  </thead>\n",
       "  <tbody>\n",
       "    <tr>\n",
       "      <th>0</th>\n",
       "      <td>0</td>\n",
       "      <td>&lt; 0 DM</td>\n",
       "      <td>6</td>\n",
       "      <td>critical account/ other credits existing (not ...</td>\n",
       "      <td>domestic appliances</td>\n",
       "      <td>1169</td>\n",
       "      <td>unknown/ no savings account</td>\n",
       "      <td>.. &gt;= 7 years</td>\n",
       "      <td>4</td>\n",
       "      <td>male : single</td>\n",
       "      <td>...</td>\n",
       "      <td>4</td>\n",
       "      <td>real estate</td>\n",
       "      <td>67</td>\n",
       "      <td>none</td>\n",
       "      <td>own</td>\n",
       "      <td>2</td>\n",
       "      <td>skilled employee / official</td>\n",
       "      <td>1</td>\n",
       "      <td>yes, registered under the customers name</td>\n",
       "      <td>yes</td>\n",
       "    </tr>\n",
       "    <tr>\n",
       "      <th>1</th>\n",
       "      <td>1</td>\n",
       "      <td>0 &lt;= ... &lt; 200 DM</td>\n",
       "      <td>48</td>\n",
       "      <td>existing credits paid back duly till now</td>\n",
       "      <td>domestic appliances</td>\n",
       "      <td>5951</td>\n",
       "      <td>... &lt; 100 DM</td>\n",
       "      <td>1 &lt;= ... &lt; 4 years</td>\n",
       "      <td>2</td>\n",
       "      <td>female : divorced/separated/married</td>\n",
       "      <td>...</td>\n",
       "      <td>2</td>\n",
       "      <td>real estate</td>\n",
       "      <td>22</td>\n",
       "      <td>none</td>\n",
       "      <td>own</td>\n",
       "      <td>1</td>\n",
       "      <td>skilled employee / official</td>\n",
       "      <td>1</td>\n",
       "      <td>none</td>\n",
       "      <td>yes</td>\n",
       "    </tr>\n",
       "    <tr>\n",
       "      <th>2</th>\n",
       "      <td>0</td>\n",
       "      <td>no checking account</td>\n",
       "      <td>12</td>\n",
       "      <td>critical account/ other credits existing (not ...</td>\n",
       "      <td>(vacation - does not exist?)</td>\n",
       "      <td>2096</td>\n",
       "      <td>... &lt; 100 DM</td>\n",
       "      <td>4 &lt;= ... &lt; 7 years</td>\n",
       "      <td>2</td>\n",
       "      <td>male : single</td>\n",
       "      <td>...</td>\n",
       "      <td>3</td>\n",
       "      <td>real estate</td>\n",
       "      <td>49</td>\n",
       "      <td>none</td>\n",
       "      <td>own</td>\n",
       "      <td>1</td>\n",
       "      <td>unskilled - resident</td>\n",
       "      <td>2</td>\n",
       "      <td>none</td>\n",
       "      <td>yes</td>\n",
       "    </tr>\n",
       "  </tbody>\n",
       "</table>\n",
       "<p>3 rows × 21 columns</p>\n",
       "</div>"
      ],
      "text/plain": [
       "   default       conta_corrente  prazo_emprestimo_meses  \\\n",
       "0        0               < 0 DM                       6   \n",
       "1        1    0 <= ... < 200 DM                      48   \n",
       "2        0  no checking account                      12   \n",
       "\n",
       "                                   historico_credito  \\\n",
       "0  critical account/ other credits existing (not ...   \n",
       "1           existing credits paid back duly till now   \n",
       "2  critical account/ other credits existing (not ...   \n",
       "\n",
       "           proposito_emprestimo  valor_emprestimo  \\\n",
       "0           domestic appliances              1169   \n",
       "1           domestic appliances              5951   \n",
       "2  (vacation - does not exist?)              2096   \n",
       "\n",
       "                    reserva_cc tempo_emprego_atual  taxa_comp_salario  \\\n",
       "0  unknown/ no savings account       .. >= 7 years                  4   \n",
       "1                 ... < 100 DM  1 <= ... < 4 years                  2   \n",
       "2                 ... < 100 DM  4 <= ... < 7 years                  2   \n",
       "\n",
       "                        sexo_est_civil  ... anos_residencia_atual  \\\n",
       "0                        male : single  ...                     4   \n",
       "1  female : divorced/separated/married  ...                     2   \n",
       "2                        male : single  ...                     3   \n",
       "\n",
       "   propriedade idade  outros_planos_financiamento tipo_residencia  \\\n",
       "0  real estate    67                         none             own   \n",
       "1  real estate    22                         none             own   \n",
       "2  real estate    49                         none             own   \n",
       "\n",
       "  n_creditos_banco               status_emprego n_dependentes  \\\n",
       "0                2  skilled employee / official             1   \n",
       "1                1  skilled employee / official             1   \n",
       "2                1         unskilled - resident             2   \n",
       "\n",
       "                                    telefone trabalhador_estrangeiro  \n",
       "0  yes, registered under the customers name                      yes  \n",
       "1                                       none                     yes  \n",
       "2                                       none                     yes  \n",
       "\n",
       "[3 rows x 21 columns]"
      ]
     },
     "execution_count": 3,
     "metadata": {},
     "output_type": "execute_result"
    }
   ],
   "source": [
    "dados.head(3)"
   ]
  },
  {
   "cell_type": "code",
   "execution_count": 50,
   "id": "5d413dd6",
   "metadata": {},
   "outputs": [
    {
     "data": {
      "text/plain": [
       "array([1, 2, 3, 4])"
      ]
     },
     "execution_count": 50,
     "metadata": {},
     "output_type": "execute_result"
    }
   ],
   "source": [
    "dados['sexo_est_civil'].unique()"
   ]
  },
  {
   "cell_type": "code",
   "execution_count": 4,
   "id": "0b7715bd",
   "metadata": {},
   "outputs": [],
   "source": [
    "linhas = dados.shape[0]\n",
    "colunas= dados.shape[1]\n",
    "duplicados = (dados.duplicated()).sum()\n",
    "nulos = (dados.isnull()).sum()"
   ]
  },
  {
   "cell_type": "code",
   "execution_count": 5,
   "id": "e9bddb01",
   "metadata": {
    "scrolled": false
   },
   "outputs": [
    {
     "name": "stdout",
     "output_type": "stream",
     "text": [
      "A base de dados tem 1000 Linhas e 21 Colunas.\n",
      "A base de dados tem 0 dados duplicados\n",
      "Dados nulos:\n",
      "\n",
      "default                        0\n",
      "conta_corrente                 0\n",
      "prazo_emprestimo_meses         0\n",
      "historico_credito              0\n",
      "proposito_emprestimo           0\n",
      "valor_emprestimo               0\n",
      "reserva_cc                     0\n",
      "tempo_emprego_atual            0\n",
      "taxa_comp_salario              0\n",
      "sexo_est_civil                 0\n",
      "outros_fiadores                0\n",
      "anos_residencia_atual          0\n",
      "propriedade                    0\n",
      "idade                          0\n",
      "outros_planos_financiamento    0\n",
      "tipo_residencia                0\n",
      "n_creditos_banco               0\n",
      "status_emprego                 0\n",
      "n_dependentes                  0\n",
      "telefone                       0\n",
      "trabalhador_estrangeiro        0\n",
      "dtype: int64\n"
     ]
    }
   ],
   "source": [
    "print('A base de dados tem {} Linhas e {} Colunas.'.format(linhas, colunas))\n",
    "print('A base de dados tem {} dados duplicados'.format(duplicados))\n",
    "print('Dados nulos:\\n\\n{}'.format(nulos))"
   ]
  },
  {
   "cell_type": "markdown",
   "id": "69a7e676",
   "metadata": {},
   "source": [
    "## Incluindo dados numericos nas colunas tipo str"
   ]
  },
  {
   "cell_type": "code",
   "execution_count": 6,
   "id": "6b9f87e8",
   "metadata": {},
   "outputs": [
    {
     "data": {
      "text/html": [
       "<div>\n",
       "<style scoped>\n",
       "    .dataframe tbody tr th:only-of-type {\n",
       "        vertical-align: middle;\n",
       "    }\n",
       "\n",
       "    .dataframe tbody tr th {\n",
       "        vertical-align: top;\n",
       "    }\n",
       "\n",
       "    .dataframe thead th {\n",
       "        text-align: right;\n",
       "    }\n",
       "</style>\n",
       "<table border=\"1\" class=\"dataframe\">\n",
       "  <thead>\n",
       "    <tr style=\"text-align: right;\">\n",
       "      <th></th>\n",
       "      <th>conta_corrente</th>\n",
       "      <th>historico_credito</th>\n",
       "      <th>proposito_emprestimo</th>\n",
       "      <th>reserva_cc</th>\n",
       "      <th>tempo_emprego_atual</th>\n",
       "      <th>sexo_est_civil</th>\n",
       "      <th>outros_fiadores</th>\n",
       "      <th>propriedade</th>\n",
       "      <th>outros_planos_financiamento</th>\n",
       "      <th>tipo_residencia</th>\n",
       "      <th>status_emprego</th>\n",
       "      <th>telefone</th>\n",
       "      <th>trabalhador_estrangeiro</th>\n",
       "    </tr>\n",
       "  </thead>\n",
       "  <tbody>\n",
       "    <tr>\n",
       "      <th>0</th>\n",
       "      <td>&lt; 0 DM</td>\n",
       "      <td>critical account/ other credits existing (not ...</td>\n",
       "      <td>domestic appliances</td>\n",
       "      <td>unknown/ no savings account</td>\n",
       "      <td>.. &gt;= 7 years</td>\n",
       "      <td>male : single</td>\n",
       "      <td>none</td>\n",
       "      <td>real estate</td>\n",
       "      <td>none</td>\n",
       "      <td>own</td>\n",
       "      <td>skilled employee / official</td>\n",
       "      <td>yes, registered under the customers name</td>\n",
       "      <td>yes</td>\n",
       "    </tr>\n",
       "    <tr>\n",
       "      <th>1</th>\n",
       "      <td>0 &lt;= ... &lt; 200 DM</td>\n",
       "      <td>existing credits paid back duly till now</td>\n",
       "      <td>domestic appliances</td>\n",
       "      <td>... &lt; 100 DM</td>\n",
       "      <td>1 &lt;= ... &lt; 4 years</td>\n",
       "      <td>female : divorced/separated/married</td>\n",
       "      <td>none</td>\n",
       "      <td>real estate</td>\n",
       "      <td>none</td>\n",
       "      <td>own</td>\n",
       "      <td>skilled employee / official</td>\n",
       "      <td>none</td>\n",
       "      <td>yes</td>\n",
       "    </tr>\n",
       "    <tr>\n",
       "      <th>2</th>\n",
       "      <td>no checking account</td>\n",
       "      <td>critical account/ other credits existing (not ...</td>\n",
       "      <td>(vacation - does not exist?)</td>\n",
       "      <td>... &lt; 100 DM</td>\n",
       "      <td>4 &lt;= ... &lt; 7 years</td>\n",
       "      <td>male : single</td>\n",
       "      <td>none</td>\n",
       "      <td>real estate</td>\n",
       "      <td>none</td>\n",
       "      <td>own</td>\n",
       "      <td>unskilled - resident</td>\n",
       "      <td>none</td>\n",
       "      <td>yes</td>\n",
       "    </tr>\n",
       "    <tr>\n",
       "      <th>3</th>\n",
       "      <td>&lt; 0 DM</td>\n",
       "      <td>existing credits paid back duly till now</td>\n",
       "      <td>radio/television</td>\n",
       "      <td>... &lt; 100 DM</td>\n",
       "      <td>4 &lt;= ... &lt; 7 years</td>\n",
       "      <td>male : single</td>\n",
       "      <td>guarantor</td>\n",
       "      <td>if not A121 : building society savings agreeme...</td>\n",
       "      <td>none</td>\n",
       "      <td>for free</td>\n",
       "      <td>skilled employee / official</td>\n",
       "      <td>none</td>\n",
       "      <td>yes</td>\n",
       "    </tr>\n",
       "    <tr>\n",
       "      <th>4</th>\n",
       "      <td>&lt; 0 DM</td>\n",
       "      <td>delay in paying off in the past</td>\n",
       "      <td>car (new)</td>\n",
       "      <td>... &lt; 100 DM</td>\n",
       "      <td>1 &lt;= ... &lt; 4 years</td>\n",
       "      <td>male : single</td>\n",
       "      <td>none</td>\n",
       "      <td>unknown / no property</td>\n",
       "      <td>none</td>\n",
       "      <td>for free</td>\n",
       "      <td>skilled employee / official</td>\n",
       "      <td>none</td>\n",
       "      <td>yes</td>\n",
       "    </tr>\n",
       "    <tr>\n",
       "      <th>...</th>\n",
       "      <td>...</td>\n",
       "      <td>...</td>\n",
       "      <td>...</td>\n",
       "      <td>...</td>\n",
       "      <td>...</td>\n",
       "      <td>...</td>\n",
       "      <td>...</td>\n",
       "      <td>...</td>\n",
       "      <td>...</td>\n",
       "      <td>...</td>\n",
       "      <td>...</td>\n",
       "      <td>...</td>\n",
       "      <td>...</td>\n",
       "    </tr>\n",
       "    <tr>\n",
       "      <th>995</th>\n",
       "      <td>no checking account</td>\n",
       "      <td>existing credits paid back duly till now</td>\n",
       "      <td>radio/television</td>\n",
       "      <td>... &lt; 100 DM</td>\n",
       "      <td>4 &lt;= ... &lt; 7 years</td>\n",
       "      <td>female : divorced/separated/married</td>\n",
       "      <td>none</td>\n",
       "      <td>real estate</td>\n",
       "      <td>none</td>\n",
       "      <td>own</td>\n",
       "      <td>unskilled - resident</td>\n",
       "      <td>none</td>\n",
       "      <td>yes</td>\n",
       "    </tr>\n",
       "    <tr>\n",
       "      <th>996</th>\n",
       "      <td>&lt; 0 DM</td>\n",
       "      <td>existing credits paid back duly till now</td>\n",
       "      <td>car (used)</td>\n",
       "      <td>... &lt; 100 DM</td>\n",
       "      <td>1 &lt;= ... &lt; 4 years</td>\n",
       "      <td>male : divorced/separated</td>\n",
       "      <td>none</td>\n",
       "      <td>if not A121 : building society savings agreeme...</td>\n",
       "      <td>none</td>\n",
       "      <td>own</td>\n",
       "      <td>management/ self-employed/ highly qualified em...</td>\n",
       "      <td>yes, registered under the customers name</td>\n",
       "      <td>yes</td>\n",
       "    </tr>\n",
       "    <tr>\n",
       "      <th>997</th>\n",
       "      <td>no checking account</td>\n",
       "      <td>existing credits paid back duly till now</td>\n",
       "      <td>domestic appliances</td>\n",
       "      <td>... &lt; 100 DM</td>\n",
       "      <td>.. &gt;= 7 years</td>\n",
       "      <td>male : single</td>\n",
       "      <td>none</td>\n",
       "      <td>if not A121/A122 : car or other, not in attrib...</td>\n",
       "      <td>none</td>\n",
       "      <td>own</td>\n",
       "      <td>skilled employee / official</td>\n",
       "      <td>none</td>\n",
       "      <td>yes</td>\n",
       "    </tr>\n",
       "    <tr>\n",
       "      <th>998</th>\n",
       "      <td>&lt; 0 DM</td>\n",
       "      <td>existing credits paid back duly till now</td>\n",
       "      <td>domestic appliances</td>\n",
       "      <td>... &lt; 100 DM</td>\n",
       "      <td>1 &lt;= ... &lt; 4 years</td>\n",
       "      <td>male : single</td>\n",
       "      <td>none</td>\n",
       "      <td>unknown / no property</td>\n",
       "      <td>none</td>\n",
       "      <td>for free</td>\n",
       "      <td>skilled employee / official</td>\n",
       "      <td>yes, registered under the customers name</td>\n",
       "      <td>yes</td>\n",
       "    </tr>\n",
       "    <tr>\n",
       "      <th>999</th>\n",
       "      <td>0 &lt;= ... &lt; 200 DM</td>\n",
       "      <td>critical account/ other credits existing (not ...</td>\n",
       "      <td>car (used)</td>\n",
       "      <td>100 &lt;= ... &lt; 500 DM</td>\n",
       "      <td>unemployed</td>\n",
       "      <td>male : single</td>\n",
       "      <td>none</td>\n",
       "      <td>if not A121/A122 : car or other, not in attrib...</td>\n",
       "      <td>none</td>\n",
       "      <td>own</td>\n",
       "      <td>skilled employee / official</td>\n",
       "      <td>none</td>\n",
       "      <td>yes</td>\n",
       "    </tr>\n",
       "  </tbody>\n",
       "</table>\n",
       "<p>1000 rows × 13 columns</p>\n",
       "</div>"
      ],
      "text/plain": [
       "          conta_corrente                                  historico_credito  \\\n",
       "0                 < 0 DM  critical account/ other credits existing (not ...   \n",
       "1      0 <= ... < 200 DM           existing credits paid back duly till now   \n",
       "2    no checking account  critical account/ other credits existing (not ...   \n",
       "3                 < 0 DM           existing credits paid back duly till now   \n",
       "4                 < 0 DM                    delay in paying off in the past   \n",
       "..                   ...                                                ...   \n",
       "995  no checking account           existing credits paid back duly till now   \n",
       "996               < 0 DM           existing credits paid back duly till now   \n",
       "997  no checking account           existing credits paid back duly till now   \n",
       "998               < 0 DM           existing credits paid back duly till now   \n",
       "999    0 <= ... < 200 DM  critical account/ other credits existing (not ...   \n",
       "\n",
       "             proposito_emprestimo                   reserva_cc  \\\n",
       "0             domestic appliances  unknown/ no savings account   \n",
       "1             domestic appliances                 ... < 100 DM   \n",
       "2    (vacation - does not exist?)                 ... < 100 DM   \n",
       "3                radio/television                 ... < 100 DM   \n",
       "4                       car (new)                 ... < 100 DM   \n",
       "..                            ...                          ...   \n",
       "995              radio/television                 ... < 100 DM   \n",
       "996                    car (used)                 ... < 100 DM   \n",
       "997           domestic appliances                 ... < 100 DM   \n",
       "998           domestic appliances                 ... < 100 DM   \n",
       "999                    car (used)          100 <= ... < 500 DM   \n",
       "\n",
       "    tempo_emprego_atual                       sexo_est_civil outros_fiadores  \\\n",
       "0         .. >= 7 years                        male : single            none   \n",
       "1    1 <= ... < 4 years  female : divorced/separated/married            none   \n",
       "2    4 <= ... < 7 years                        male : single            none   \n",
       "3    4 <= ... < 7 years                        male : single       guarantor   \n",
       "4    1 <= ... < 4 years                        male : single            none   \n",
       "..                  ...                                  ...             ...   \n",
       "995  4 <= ... < 7 years  female : divorced/separated/married            none   \n",
       "996  1 <= ... < 4 years            male : divorced/separated            none   \n",
       "997       .. >= 7 years                        male : single            none   \n",
       "998  1 <= ... < 4 years                        male : single            none   \n",
       "999          unemployed                        male : single            none   \n",
       "\n",
       "                                           propriedade  \\\n",
       "0                                          real estate   \n",
       "1                                          real estate   \n",
       "2                                          real estate   \n",
       "3    if not A121 : building society savings agreeme...   \n",
       "4                                unknown / no property   \n",
       "..                                                 ...   \n",
       "995                                        real estate   \n",
       "996  if not A121 : building society savings agreeme...   \n",
       "997  if not A121/A122 : car or other, not in attrib...   \n",
       "998                              unknown / no property   \n",
       "999  if not A121/A122 : car or other, not in attrib...   \n",
       "\n",
       "    outros_planos_financiamento tipo_residencia  \\\n",
       "0                          none             own   \n",
       "1                          none             own   \n",
       "2                          none             own   \n",
       "3                          none        for free   \n",
       "4                          none        for free   \n",
       "..                          ...             ...   \n",
       "995                        none             own   \n",
       "996                        none             own   \n",
       "997                        none             own   \n",
       "998                        none        for free   \n",
       "999                        none             own   \n",
       "\n",
       "                                        status_emprego  \\\n",
       "0                          skilled employee / official   \n",
       "1                          skilled employee / official   \n",
       "2                                 unskilled - resident   \n",
       "3                          skilled employee / official   \n",
       "4                          skilled employee / official   \n",
       "..                                                 ...   \n",
       "995                               unskilled - resident   \n",
       "996  management/ self-employed/ highly qualified em...   \n",
       "997                        skilled employee / official   \n",
       "998                        skilled employee / official   \n",
       "999                        skilled employee / official   \n",
       "\n",
       "                                      telefone trabalhador_estrangeiro  \n",
       "0    yes, registered under the customers name                      yes  \n",
       "1                                         none                     yes  \n",
       "2                                         none                     yes  \n",
       "3                                         none                     yes  \n",
       "4                                         none                     yes  \n",
       "..                                         ...                     ...  \n",
       "995                                       none                     yes  \n",
       "996  yes, registered under the customers name                      yes  \n",
       "997                                       none                     yes  \n",
       "998  yes, registered under the customers name                      yes  \n",
       "999                                       none                     yes  \n",
       "\n",
       "[1000 rows x 13 columns]"
      ]
     },
     "execution_count": 6,
     "metadata": {},
     "output_type": "execute_result"
    }
   ],
   "source": [
    " dados.select_dtypes(exclude='number')"
   ]
  },
  {
   "cell_type": "code",
   "execution_count": 7,
   "id": "aef70d54",
   "metadata": {},
   "outputs": [],
   "source": [
    "corrigir = dados.select_dtypes(exclude='number')\n",
    "a = {}\n",
    "\n",
    "for col in corrigir:\n",
    "    i = 1\n",
    "    for item in corrigir[col].unique():\n",
    "        a.update({item: i})\n",
    "        i += 1\n",
    "    corrigir[col] =corrigir[col].map(a)\n",
    "    dados[col] = corrigir[col]   "
   ]
  },
  {
   "cell_type": "code",
   "execution_count": 8,
   "id": "161489a8",
   "metadata": {},
   "outputs": [
    {
     "data": {
      "text/plain": [
       "array([1, 2, 3, 4])"
      ]
     },
     "execution_count": 8,
     "metadata": {},
     "output_type": "execute_result"
    }
   ],
   "source": [
    "dados.head()\n",
    "dados['sexo_est_civil'].unique()"
   ]
  },
  {
   "cell_type": "markdown",
   "id": "b176befd",
   "metadata": {},
   "source": [
    "## Separando dados em variáveis dependente e independentes:"
   ]
  },
  {
   "cell_type": "code",
   "execution_count": 9,
   "id": "48773d3a",
   "metadata": {},
   "outputs": [],
   "source": [
    "y = dados.default\n",
    "x = dados.drop(columns='default')"
   ]
  },
  {
   "cell_type": "code",
   "execution_count": 10,
   "id": "44fada99",
   "metadata": {},
   "outputs": [
    {
     "data": {
      "text/html": [
       "<div>\n",
       "<style scoped>\n",
       "    .dataframe tbody tr th:only-of-type {\n",
       "        vertical-align: middle;\n",
       "    }\n",
       "\n",
       "    .dataframe tbody tr th {\n",
       "        vertical-align: top;\n",
       "    }\n",
       "\n",
       "    .dataframe thead th {\n",
       "        text-align: right;\n",
       "    }\n",
       "</style>\n",
       "<table border=\"1\" class=\"dataframe\">\n",
       "  <thead>\n",
       "    <tr style=\"text-align: right;\">\n",
       "      <th></th>\n",
       "      <th>conta_corrente</th>\n",
       "      <th>prazo_emprestimo_meses</th>\n",
       "      <th>historico_credito</th>\n",
       "      <th>proposito_emprestimo</th>\n",
       "      <th>valor_emprestimo</th>\n",
       "      <th>reserva_cc</th>\n",
       "      <th>tempo_emprego_atual</th>\n",
       "      <th>taxa_comp_salario</th>\n",
       "      <th>sexo_est_civil</th>\n",
       "      <th>outros_fiadores</th>\n",
       "      <th>anos_residencia_atual</th>\n",
       "      <th>propriedade</th>\n",
       "      <th>idade</th>\n",
       "      <th>outros_planos_financiamento</th>\n",
       "      <th>tipo_residencia</th>\n",
       "      <th>n_creditos_banco</th>\n",
       "      <th>status_emprego</th>\n",
       "      <th>n_dependentes</th>\n",
       "      <th>telefone</th>\n",
       "      <th>trabalhador_estrangeiro</th>\n",
       "    </tr>\n",
       "  </thead>\n",
       "  <tbody>\n",
       "    <tr>\n",
       "      <th>0</th>\n",
       "      <td>1</td>\n",
       "      <td>6</td>\n",
       "      <td>1</td>\n",
       "      <td>1</td>\n",
       "      <td>1169</td>\n",
       "      <td>1</td>\n",
       "      <td>1</td>\n",
       "      <td>4</td>\n",
       "      <td>1</td>\n",
       "      <td>1</td>\n",
       "      <td>4</td>\n",
       "      <td>1</td>\n",
       "      <td>67</td>\n",
       "      <td>1</td>\n",
       "      <td>1</td>\n",
       "      <td>2</td>\n",
       "      <td>1</td>\n",
       "      <td>1</td>\n",
       "      <td>1</td>\n",
       "      <td>1</td>\n",
       "    </tr>\n",
       "    <tr>\n",
       "      <th>1</th>\n",
       "      <td>2</td>\n",
       "      <td>48</td>\n",
       "      <td>2</td>\n",
       "      <td>1</td>\n",
       "      <td>5951</td>\n",
       "      <td>2</td>\n",
       "      <td>2</td>\n",
       "      <td>2</td>\n",
       "      <td>2</td>\n",
       "      <td>1</td>\n",
       "      <td>2</td>\n",
       "      <td>1</td>\n",
       "      <td>22</td>\n",
       "      <td>1</td>\n",
       "      <td>1</td>\n",
       "      <td>1</td>\n",
       "      <td>1</td>\n",
       "      <td>1</td>\n",
       "      <td>2</td>\n",
       "      <td>1</td>\n",
       "    </tr>\n",
       "    <tr>\n",
       "      <th>2</th>\n",
       "      <td>3</td>\n",
       "      <td>12</td>\n",
       "      <td>1</td>\n",
       "      <td>2</td>\n",
       "      <td>2096</td>\n",
       "      <td>2</td>\n",
       "      <td>3</td>\n",
       "      <td>2</td>\n",
       "      <td>1</td>\n",
       "      <td>1</td>\n",
       "      <td>3</td>\n",
       "      <td>1</td>\n",
       "      <td>49</td>\n",
       "      <td>1</td>\n",
       "      <td>1</td>\n",
       "      <td>1</td>\n",
       "      <td>2</td>\n",
       "      <td>2</td>\n",
       "      <td>2</td>\n",
       "      <td>1</td>\n",
       "    </tr>\n",
       "  </tbody>\n",
       "</table>\n",
       "</div>"
      ],
      "text/plain": [
       "   conta_corrente  prazo_emprestimo_meses  historico_credito  \\\n",
       "0               1                       6                  1   \n",
       "1               2                      48                  2   \n",
       "2               3                      12                  1   \n",
       "\n",
       "   proposito_emprestimo  valor_emprestimo  reserva_cc  tempo_emprego_atual  \\\n",
       "0                     1              1169           1                    1   \n",
       "1                     1              5951           2                    2   \n",
       "2                     2              2096           2                    3   \n",
       "\n",
       "   taxa_comp_salario  sexo_est_civil  outros_fiadores  anos_residencia_atual  \\\n",
       "0                  4               1                1                      4   \n",
       "1                  2               2                1                      2   \n",
       "2                  2               1                1                      3   \n",
       "\n",
       "   propriedade  idade  outros_planos_financiamento  tipo_residencia  \\\n",
       "0            1     67                            1                1   \n",
       "1            1     22                            1                1   \n",
       "2            1     49                            1                1   \n",
       "\n",
       "   n_creditos_banco  status_emprego  n_dependentes  telefone  \\\n",
       "0                 2               1              1         1   \n",
       "1                 1               1              1         2   \n",
       "2                 1               2              2         2   \n",
       "\n",
       "   trabalhador_estrangeiro  \n",
       "0                        1  \n",
       "1                        1  \n",
       "2                        1  "
      ]
     },
     "execution_count": 10,
     "metadata": {},
     "output_type": "execute_result"
    }
   ],
   "source": [
    "x.head(3)"
   ]
  },
  {
   "cell_type": "code",
   "execution_count": 11,
   "id": "16156b2b",
   "metadata": {},
   "outputs": [
    {
     "data": {
      "text/plain": [
       "0    0\n",
       "1    1\n",
       "2    0\n",
       "Name: default, dtype: int64"
      ]
     },
     "execution_count": 11,
     "metadata": {},
     "output_type": "execute_result"
    }
   ],
   "source": [
    "y.head(3)"
   ]
  },
  {
   "cell_type": "code",
   "execution_count": 12,
   "id": "74a904a9",
   "metadata": {},
   "outputs": [
    {
     "name": "stdout",
     "output_type": "stream",
     "text": [
      "A base de teste de treino tem 700 elementos e a base de teste tem 300 elementos.\n"
     ]
    }
   ],
   "source": [
    "from sklearn.model_selection import train_test_split\n",
    "SEED = 77\n",
    "treino_x, teste_x, treino_y, teste_y = train_test_split(x,y, test_size=0.30, random_state=SEED)\n",
    "\n",
    "base_treino = treino_x.shape[0]\n",
    "base_teste = teste_x.shape[0]\n",
    "\n",
    "print('A base de teste de treino tem {} elementos e a base de teste tem {} elementos.'.format(base_treino,\n",
    "                                                                                              base_teste))"
   ]
  },
  {
   "cell_type": "markdown",
   "id": "a174a111",
   "metadata": {},
   "source": [
    "## Criando e rodando modelo:"
   ]
  },
  {
   "cell_type": "code",
   "execution_count": 13,
   "id": "efacd24a",
   "metadata": {},
   "outputs": [],
   "source": [
    "from sklearn.linear_model import LogisticRegression\n",
    "modelo = LogisticRegression(max_iter=1000)"
   ]
  },
  {
   "cell_type": "code",
   "execution_count": 14,
   "id": "1c070bd9",
   "metadata": {},
   "outputs": [
    {
     "data": {
      "text/plain": [
       "LogisticRegression(max_iter=1000)"
      ]
     },
     "execution_count": 14,
     "metadata": {},
     "output_type": "execute_result"
    }
   ],
   "source": [
    "  modelo.fit(treino_x, treino_y)"
   ]
  },
  {
   "cell_type": "markdown",
   "id": "909860cc",
   "metadata": {},
   "source": [
    "## Acuracia de treino"
   ]
  },
  {
   "cell_type": "code",
   "execution_count": 15,
   "id": "e330df53",
   "metadata": {},
   "outputs": [
    {
     "name": "stdout",
     "output_type": "stream",
     "text": [
      "0.7585714285714286\n"
     ]
    }
   ],
   "source": [
    "print(modelo.score(treino_x, treino_y))"
   ]
  },
  {
   "cell_type": "code",
   "execution_count": 16,
   "id": "3395fad9",
   "metadata": {},
   "outputs": [
    {
     "data": {
      "text/plain": [
       "array([0, 0, 0, 1, 0, 0, 1, 0, 0, 0, 0, 0, 0, 0, 0, 0, 0, 0, 0, 1, 0, 0,\n",
       "       0, 0, 0, 0, 0, 1, 0, 0, 0, 0, 0, 0, 0, 0, 0, 1, 0, 0, 1, 0, 0, 1,\n",
       "       1, 0, 0, 0, 0, 0, 0, 0, 1, 0, 0, 1, 0, 0, 1, 1, 0, 0, 0, 0, 0, 0,\n",
       "       1, 0, 1, 0, 0, 0, 1, 0, 0, 1, 1, 0, 1, 0, 1, 1, 1, 0, 0, 0, 0, 0,\n",
       "       0, 0, 0, 1, 0, 0, 0, 0, 1, 0, 0, 1, 0, 0, 1, 0, 0, 0, 0, 0, 0, 0,\n",
       "       0, 1, 0, 0, 0, 0, 0, 0, 0, 0, 0, 1, 0, 1, 0, 0, 0, 1, 0, 0, 0, 1,\n",
       "       0, 1, 1, 0, 0, 0, 0, 0, 0, 0, 0, 0, 1, 1, 1, 0, 0, 0, 0, 1, 0, 0,\n",
       "       0, 1, 0, 0, 0, 0, 0, 0, 0, 0, 1, 0, 1, 0, 0, 0, 0, 0, 0, 0, 0, 0,\n",
       "       0, 0, 0, 1, 0, 0, 1, 0, 0, 0, 0, 0, 0, 0, 0, 0, 0, 1, 0, 0, 0, 1,\n",
       "       1, 0, 0, 0, 0, 0, 0, 1, 0, 0, 0, 0, 0, 0, 0, 0, 0, 0, 0, 0, 0, 0,\n",
       "       0, 0, 0, 0, 0, 0, 0, 0, 0, 1, 0, 0, 0, 0, 1, 0, 0, 0, 0, 1, 0, 0,\n",
       "       0, 0, 0, 1, 0, 1, 0, 1, 0, 0, 0, 1, 0, 0, 0, 1, 0, 0, 0, 0, 0, 0,\n",
       "       0, 0, 0, 1, 0, 0, 1, 0, 0, 0, 0, 1, 0, 0, 0, 0, 0, 0, 0, 0, 0, 0,\n",
       "       0, 0, 0, 0, 1, 0, 0, 0, 1, 0, 1, 0, 1, 0])"
      ]
     },
     "execution_count": 16,
     "metadata": {},
     "output_type": "execute_result"
    }
   ],
   "source": [
    "previsoes = modelo.predict(teste_x)\n",
    "previsoes"
   ]
  },
  {
   "cell_type": "markdown",
   "id": "d0c83b74",
   "metadata": {},
   "source": [
    "## Acuracia de teste"
   ]
  },
  {
   "cell_type": "code",
   "execution_count": 17,
   "id": "1a77a49b",
   "metadata": {},
   "outputs": [
    {
     "data": {
      "text/plain": [
       "0.76"
      ]
     },
     "execution_count": 17,
     "metadata": {},
     "output_type": "execute_result"
    }
   ],
   "source": [
    "from sklearn.metrics import accuracy_score\n",
    "acuracia = accuracy_score(teste_y, previsoes)\n",
    "acuracia"
   ]
  },
  {
   "cell_type": "markdown",
   "id": "7125bc7c",
   "metadata": {},
   "source": [
    "## Matriz de confusão"
   ]
  },
  {
   "cell_type": "markdown",
   "id": "67ecee41",
   "metadata": {},
   "source": [
    "<img src='data/matriz_confusao.jpg' width=\"300\" height=\"300\">"
   ]
  },
  {
   "cell_type": "code",
   "execution_count": 18,
   "id": "cf16f030",
   "metadata": {},
   "outputs": [
    {
     "name": "stderr",
     "output_type": "stream",
     "text": [
      "/opt/anaconda/lib/python3.9/site-packages/sklearn/utils/deprecation.py:87: FutureWarning: Function plot_confusion_matrix is deprecated; Function `plot_confusion_matrix` is deprecated in 1.0 and will be removed in 1.2. Use one of the class methods: ConfusionMatrixDisplay.from_predictions or ConfusionMatrixDisplay.from_estimator.\n",
      "  warnings.warn(msg, category=FutureWarning)\n"
     ]
    },
    {
     "data": {
      "text/plain": [
       "<sklearn.metrics._plot.confusion_matrix.ConfusionMatrixDisplay at 0x7fd6e0b5cc70>"
      ]
     },
     "execution_count": 18,
     "metadata": {},
     "output_type": "execute_result"
    },
    {
     "data": {
      "image/png": "[encoded data removed]",
      "text/plain": [
       "<Figure size 640x480 with 2 Axes>"
      ]
     },
     "metadata": {},
     "output_type": "display_data"
    }
   ],
   "source": [
    "import matplotlib.pyplot as plt\n",
    "from sklearn.metrics import plot_confusion_matrix \n",
    "\n",
    "matriz_confusao = plot_confusion_matrix (modelo, teste_x, teste_y, cmap ='Blues', values_format='.3g')\n",
    "matriz_confusao"
   ]
  },
  {
   "cell_type": "code",
   "execution_count": 19,
   "id": "4d4f46ed",
   "metadata": {},
   "outputs": [
    {
     "name": "stdout",
     "output_type": "stream",
     "text": [
      "              precision    recall  f1-score   support\n",
      "\n",
      "           0       0.80      0.89      0.84       214\n",
      "           1       0.62      0.43      0.51        86\n",
      "\n",
      "    accuracy                           0.76       300\n",
      "   macro avg       0.71      0.66      0.67       300\n",
      "weighted avg       0.74      0.76      0.75       300\n",
      "\n"
     ]
    }
   ],
   "source": [
    "from sklearn.metrics import classification_report\n",
    "\n",
    "print(classification_report(teste_y, previsoes))"
   ]
  },
  {
   "cell_type": "markdown",
   "id": "6850396e",
   "metadata": {},
   "source": [
    " ## Plotando a curva ROC"
   ]
  },
  {
   "cell_type": "code",
   "execution_count": 20,
   "id": "f6f44004",
   "metadata": {},
   "outputs": [
    {
     "name": "stdout",
     "output_type": "stream",
     "text": [
      "roc_auc 0.7597261464898936\n"
     ]
    },
    {
     "data": {
      "image/png": "[encoded data removed]",
      "text/plain": [
       "<Figure size 500x500 with 1 Axes>"
      ]
     },
     "metadata": {},
     "output_type": "display_data"
    }
   ],
   "source": [
    "from sklearn.metrics import roc_curve, roc_auc_score\n",
    "\n",
    "prob_previsao = modelo.predict_proba(teste_x)[:,1]\n",
    "\n",
    "#tfp = taxa de falsos positivos\n",
    "#tvp = taxa de falsos negativos\n",
    "\n",
    "tfp, tvp, limite = roc_curve(teste_y, prob_previsao)\n",
    "print('roc_auc', roc_auc_score(teste_y, prob_previsao))\n",
    "\n",
    "plt.subplots(1, figsize = (5,5))\n",
    "plt.title('curva ROC')\n",
    "plt.plot(tfp, tvp)\n",
    "plt.xlabel('Especificidade')\n",
    "plt.ylabel('Sensibilidade')\n",
    "plt.plot([0, 1], ls=\"--\", c = 'red') #plotando linha guia pontilhada vermelha\n",
    "plt.plot([0, 0], [1, 0], ls=\"--\", c = 'green'), plt.plot([1, 1], ls=\"--\", c = 'green') #plotando linha guia pontilhada verde\n",
    "plt.show()"
   ]
  },
  {
   "cell_type": "markdown",
   "id": "8604b244",
   "metadata": {},
   "source": [
    "## Análise descritiva"
   ]
  },
  {
   "cell_type": "code",
   "execution_count": 21,
   "id": "cd0abd80",
   "metadata": {},
   "outputs": [
    {
     "data": {
      "text/html": [
       "<div>\n",
       "<style scoped>\n",
       "    .dataframe tbody tr th:only-of-type {\n",
       "        vertical-align: middle;\n",
       "    }\n",
       "\n",
       "    .dataframe tbody tr th {\n",
       "        vertical-align: top;\n",
       "    }\n",
       "\n",
       "    .dataframe thead th {\n",
       "        text-align: right;\n",
       "    }\n",
       "</style>\n",
       "<table border=\"1\" class=\"dataframe\">\n",
       "  <thead>\n",
       "    <tr style=\"text-align: right;\">\n",
       "      <th></th>\n",
       "      <th>sexo_est_civil</th>\n",
       "      <th>idade</th>\n",
       "      <th>prazo_emprestimo_meses</th>\n",
       "      <th>valor_emprestimo</th>\n",
       "      <th>default</th>\n",
       "    </tr>\n",
       "  </thead>\n",
       "  <tbody>\n",
       "    <tr>\n",
       "      <th>count</th>\n",
       "      <td>1000.000000</td>\n",
       "      <td>1000.000000</td>\n",
       "      <td>1000.000000</td>\n",
       "      <td>1000.000000</td>\n",
       "      <td>1000.000000</td>\n",
       "    </tr>\n",
       "    <tr>\n",
       "      <th>mean</th>\n",
       "      <td>1.686000</td>\n",
       "      <td>35.546000</td>\n",
       "      <td>20.903000</td>\n",
       "      <td>3271.258000</td>\n",
       "      <td>0.300000</td>\n",
       "    </tr>\n",
       "    <tr>\n",
       "      <th>std</th>\n",
       "      <td>0.931811</td>\n",
       "      <td>11.375469</td>\n",
       "      <td>12.058814</td>\n",
       "      <td>2822.736876</td>\n",
       "      <td>0.458487</td>\n",
       "    </tr>\n",
       "    <tr>\n",
       "      <th>min</th>\n",
       "      <td>1.000000</td>\n",
       "      <td>19.000000</td>\n",
       "      <td>4.000000</td>\n",
       "      <td>250.000000</td>\n",
       "      <td>0.000000</td>\n",
       "    </tr>\n",
       "    <tr>\n",
       "      <th>25%</th>\n",
       "      <td>1.000000</td>\n",
       "      <td>27.000000</td>\n",
       "      <td>12.000000</td>\n",
       "      <td>1365.500000</td>\n",
       "      <td>0.000000</td>\n",
       "    </tr>\n",
       "    <tr>\n",
       "      <th>50%</th>\n",
       "      <td>1.000000</td>\n",
       "      <td>33.000000</td>\n",
       "      <td>18.000000</td>\n",
       "      <td>2319.500000</td>\n",
       "      <td>0.000000</td>\n",
       "    </tr>\n",
       "    <tr>\n",
       "      <th>75%</th>\n",
       "      <td>2.000000</td>\n",
       "      <td>42.000000</td>\n",
       "      <td>24.000000</td>\n",
       "      <td>3972.250000</td>\n",
       "      <td>1.000000</td>\n",
       "    </tr>\n",
       "    <tr>\n",
       "      <th>max</th>\n",
       "      <td>4.000000</td>\n",
       "      <td>75.000000</td>\n",
       "      <td>72.000000</td>\n",
       "      <td>18424.000000</td>\n",
       "      <td>1.000000</td>\n",
       "    </tr>\n",
       "  </tbody>\n",
       "</table>\n",
       "</div>"
      ],
      "text/plain": [
       "       sexo_est_civil        idade  prazo_emprestimo_meses  valor_emprestimo  \\\n",
       "count     1000.000000  1000.000000             1000.000000       1000.000000   \n",
       "mean         1.686000    35.546000               20.903000       3271.258000   \n",
       "std          0.931811    11.375469               12.058814       2822.736876   \n",
       "min          1.000000    19.000000                4.000000        250.000000   \n",
       "25%          1.000000    27.000000               12.000000       1365.500000   \n",
       "50%          1.000000    33.000000               18.000000       2319.500000   \n",
       "75%          2.000000    42.000000               24.000000       3972.250000   \n",
       "max          4.000000    75.000000               72.000000      18424.000000   \n",
       "\n",
       "           default  \n",
       "count  1000.000000  \n",
       "mean      0.300000  \n",
       "std       0.458487  \n",
       "min       0.000000  \n",
       "25%       0.000000  \n",
       "50%       0.000000  \n",
       "75%       1.000000  \n",
       "max       1.000000  "
      ]
     },
     "execution_count": 21,
     "metadata": {},
     "output_type": "execute_result"
    }
   ],
   "source": [
    "variaveis_analise = ['sexo_est_civil', 'idade', 'prazo_emprestimo_meses', 'valor_emprestimo', 'default']\n",
    "dados[variaveis_analise].describe()"
   ]
  },
  {
   "cell_type": "code",
   "execution_count": 22,
   "id": "740356ef",
   "metadata": {},
   "outputs": [
    {
     "data": {
      "text/plain": [
       "1    548\n",
       "2    310\n",
       "4     92\n",
       "3     50\n",
       "Name: sexo_est_civil, dtype: int64"
      ]
     },
     "execution_count": 22,
     "metadata": {},
     "output_type": "execute_result"
    }
   ],
   "source": [
    "dados.sexo_est_civil.value_counts()\n",
    "\n",
    "#310 mulheres 690 homens"
   ]
  },
  {
   "cell_type": "code",
   "execution_count": 23,
   "id": "7d06ff72",
   "metadata": {},
   "outputs": [
    {
     "data": {
      "text/plain": [
       "0    700\n",
       "1    300\n",
       "Name: default, dtype: int64"
      ]
     },
     "execution_count": 23,
     "metadata": {},
     "output_type": "execute_result"
    }
   ],
   "source": [
    "dados.default.value_counts()\n",
    "\n",
    "# base de dados eh desbalanceada (70% negadas 30% deferidos)"
   ]
  },
  {
   "cell_type": "markdown",
   "id": "230ff2c5",
   "metadata": {},
   "source": [
    "## Histogramas"
   ]
  },
  {
   "cell_type": "code",
   "execution_count": 24,
   "id": "918f98ee",
   "metadata": {},
   "outputs": [
    {
     "data": {
      "image/png": "[encoded data removed]",
      "text/plain": [
       "<Figure size 4000x3000 with 3 Axes>"
      ]
     },
     "metadata": {},
     "output_type": "display_data"
    }
   ],
   "source": [
    "import seaborn as sns\n",
    "\n",
    "histogramas = ['sexo_est_civil', 'prazo_emprestimo_meses', 'default']\n",
    "\n",
    "lista_histogramas = list(enumerate(histogramas))\n",
    "\n",
    "plt.figure(figsize=(40,30))\n",
    "\n",
    "for i in lista_histogramas:\n",
    "    plt.subplot(2, 2, i[0]+1)\n",
    "    sns.countplot(x=i[1], data = dados)"
   ]
  },
  {
   "cell_type": "markdown",
   "id": "6b9bc4ce",
   "metadata": {},
   "source": [
    "## Boxplot e gráfico de barras"
   ]
  },
  {
   "cell_type": "code",
   "execution_count": 25,
   "id": "08435be8",
   "metadata": {},
   "outputs": [
    {
     "data": {
      "image/png": "[encoded data removed]",
      "text/plain": [
       "<Figure size 640x480 with 1 Axes>"
      ]
     },
     "metadata": {},
     "output_type": "display_data"
    },
    {
     "data": {
      "text/plain": [
       "<Figure size 4000x3000 with 0 Axes>"
      ]
     },
     "metadata": {},
     "output_type": "display_data"
    }
   ],
   "source": [
    "sns.boxplot(x = 'sexo_est_civil', y = 'idade', data = dados)\n",
    "plt.title('Distribuição de idade pos sexo e estado civil')\n",
    "plt.figure(figsize=(40,30))\n",
    "plt.show()"
   ]
  },
  {
   "cell_type": "code",
   "execution_count": 26,
   "id": "511663f4",
   "metadata": {},
   "outputs": [
    {
     "data": {
      "image/png": "[encoded data removed]",
      "text/plain": [
       "<Figure size 640x480 with 1 Axes>"
      ]
     },
     "metadata": {},
     "output_type": "display_data"
    },
    {
     "data": {
      "text/plain": [
       "<Figure size 4000x3000 with 0 Axes>"
      ]
     },
     "metadata": {},
     "output_type": "display_data"
    }
   ],
   "source": [
    "plt.bar(dados.prazo_emprestimo_meses, dados.valor_emprestimo)\n",
    "\n",
    "plt.xlabel=('prazo_emprestimo_meses')\n",
    "plt.ylabel=('valor_emprestimo')\n",
    "plt.title=('prazo_emprestimo_meses X valor_emprestimo')\n",
    "plt.figure(figsize=(40,30))\n",
    "plt.show()\n"
   ]
  },
  {
   "cell_type": "code",
   "execution_count": 27,
   "id": "839867a9",
   "metadata": {},
   "outputs": [
    {
     "data": {
      "image/png": "[encoded data removed]",
      "text/plain": [
       "<Figure size 640x480 with 1 Axes>"
      ]
     },
     "metadata": {},
     "output_type": "display_data"
    },
    {
     "data": {
      "text/plain": [
       "<Figure size 4000x3000 with 0 Axes>"
      ]
     },
     "metadata": {},
     "output_type": "display_data"
    }
   ],
   "source": [
    "plt.bar(dados.proposito_emprestimo, dados.valor_emprestimo)\n",
    "\n",
    "plt.xlabel=('proposito_emprestimo')\n",
    "plt.ylabel=('valor_emprestimo')\n",
    "plt.title=('proposito_emprestimo X valor_emprestimo')\n",
    "plt.figure(figsize=(40,30))\n",
    "plt.show()"
   ]
  },
  {
   "cell_type": "code",
   "execution_count": 28,
   "id": "e9f99dd1",
   "metadata": {},
   "outputs": [
    {
     "data": {
      "text/html": [
       "<div>\n",
       "<style scoped>\n",
       "    .dataframe tbody tr th:only-of-type {\n",
       "        vertical-align: middle;\n",
       "    }\n",
       "\n",
       "    .dataframe tbody tr th {\n",
       "        vertical-align: top;\n",
       "    }\n",
       "\n",
       "    .dataframe thead th {\n",
       "        text-align: right;\n",
       "    }\n",
       "</style>\n",
       "<table border=\"1\" class=\"dataframe\">\n",
       "  <thead>\n",
       "    <tr style=\"text-align: right;\">\n",
       "      <th></th>\n",
       "      <th>default</th>\n",
       "      <th>conta_corrente</th>\n",
       "      <th>prazo_emprestimo_meses</th>\n",
       "      <th>historico_credito</th>\n",
       "      <th>proposito_emprestimo</th>\n",
       "      <th>valor_emprestimo</th>\n",
       "      <th>reserva_cc</th>\n",
       "      <th>tempo_emprego_atual</th>\n",
       "      <th>taxa_comp_salario</th>\n",
       "      <th>sexo_est_civil</th>\n",
       "      <th>...</th>\n",
       "      <th>idade</th>\n",
       "      <th>outros_planos_financiamento</th>\n",
       "      <th>tipo_residencia</th>\n",
       "      <th>n_creditos_banco</th>\n",
       "      <th>status_emprego</th>\n",
       "      <th>n_dependentes</th>\n",
       "      <th>telefone</th>\n",
       "      <th>trabalhador_estrangeiro</th>\n",
       "      <th>sexo</th>\n",
       "      <th>estado_civil</th>\n",
       "    </tr>\n",
       "  </thead>\n",
       "  <tbody>\n",
       "    <tr>\n",
       "      <th>0</th>\n",
       "      <td>0</td>\n",
       "      <td>1</td>\n",
       "      <td>6</td>\n",
       "      <td>1</td>\n",
       "      <td>1</td>\n",
       "      <td>1169</td>\n",
       "      <td>1</td>\n",
       "      <td>1</td>\n",
       "      <td>4</td>\n",
       "      <td>1</td>\n",
       "      <td>...</td>\n",
       "      <td>67</td>\n",
       "      <td>1</td>\n",
       "      <td>1</td>\n",
       "      <td>2</td>\n",
       "      <td>1</td>\n",
       "      <td>1</td>\n",
       "      <td>1</td>\n",
       "      <td>1</td>\n",
       "      <td>0</td>\n",
       "      <td>1</td>\n",
       "    </tr>\n",
       "    <tr>\n",
       "      <th>1</th>\n",
       "      <td>1</td>\n",
       "      <td>2</td>\n",
       "      <td>48</td>\n",
       "      <td>2</td>\n",
       "      <td>1</td>\n",
       "      <td>5951</td>\n",
       "      <td>2</td>\n",
       "      <td>2</td>\n",
       "      <td>2</td>\n",
       "      <td>2</td>\n",
       "      <td>...</td>\n",
       "      <td>22</td>\n",
       "      <td>1</td>\n",
       "      <td>1</td>\n",
       "      <td>1</td>\n",
       "      <td>1</td>\n",
       "      <td>1</td>\n",
       "      <td>2</td>\n",
       "      <td>1</td>\n",
       "      <td>1</td>\n",
       "      <td>0</td>\n",
       "    </tr>\n",
       "    <tr>\n",
       "      <th>2</th>\n",
       "      <td>0</td>\n",
       "      <td>3</td>\n",
       "      <td>12</td>\n",
       "      <td>1</td>\n",
       "      <td>2</td>\n",
       "      <td>2096</td>\n",
       "      <td>2</td>\n",
       "      <td>3</td>\n",
       "      <td>2</td>\n",
       "      <td>1</td>\n",
       "      <td>...</td>\n",
       "      <td>49</td>\n",
       "      <td>1</td>\n",
       "      <td>1</td>\n",
       "      <td>1</td>\n",
       "      <td>2</td>\n",
       "      <td>2</td>\n",
       "      <td>2</td>\n",
       "      <td>1</td>\n",
       "      <td>0</td>\n",
       "      <td>1</td>\n",
       "    </tr>\n",
       "    <tr>\n",
       "      <th>3</th>\n",
       "      <td>0</td>\n",
       "      <td>1</td>\n",
       "      <td>42</td>\n",
       "      <td>2</td>\n",
       "      <td>3</td>\n",
       "      <td>7882</td>\n",
       "      <td>2</td>\n",
       "      <td>3</td>\n",
       "      <td>2</td>\n",
       "      <td>1</td>\n",
       "      <td>...</td>\n",
       "      <td>45</td>\n",
       "      <td>1</td>\n",
       "      <td>2</td>\n",
       "      <td>1</td>\n",
       "      <td>1</td>\n",
       "      <td>2</td>\n",
       "      <td>2</td>\n",
       "      <td>1</td>\n",
       "      <td>0</td>\n",
       "      <td>1</td>\n",
       "    </tr>\n",
       "    <tr>\n",
       "      <th>4</th>\n",
       "      <td>1</td>\n",
       "      <td>1</td>\n",
       "      <td>24</td>\n",
       "      <td>3</td>\n",
       "      <td>4</td>\n",
       "      <td>4870</td>\n",
       "      <td>2</td>\n",
       "      <td>2</td>\n",
       "      <td>3</td>\n",
       "      <td>1</td>\n",
       "      <td>...</td>\n",
       "      <td>53</td>\n",
       "      <td>1</td>\n",
       "      <td>2</td>\n",
       "      <td>2</td>\n",
       "      <td>1</td>\n",
       "      <td>2</td>\n",
       "      <td>2</td>\n",
       "      <td>1</td>\n",
       "      <td>0</td>\n",
       "      <td>1</td>\n",
       "    </tr>\n",
       "  </tbody>\n",
       "</table>\n",
       "<p>5 rows × 23 columns</p>\n",
       "</div>"
      ],
      "text/plain": [
       "   default  conta_corrente  prazo_emprestimo_meses  historico_credito  \\\n",
       "0        0               1                       6                  1   \n",
       "1        1               2                      48                  2   \n",
       "2        0               3                      12                  1   \n",
       "3        0               1                      42                  2   \n",
       "4        1               1                      24                  3   \n",
       "\n",
       "   proposito_emprestimo  valor_emprestimo  reserva_cc  tempo_emprego_atual  \\\n",
       "0                     1              1169           1                    1   \n",
       "1                     1              5951           2                    2   \n",
       "2                     2              2096           2                    3   \n",
       "3                     3              7882           2                    3   \n",
       "4                     4              4870           2                    2   \n",
       "\n",
       "   taxa_comp_salario  sexo_est_civil  ...  idade  outros_planos_financiamento  \\\n",
       "0                  4               1  ...     67                            1   \n",
       "1                  2               2  ...     22                            1   \n",
       "2                  2               1  ...     49                            1   \n",
       "3                  2               1  ...     45                            1   \n",
       "4                  3               1  ...     53                            1   \n",
       "\n",
       "   tipo_residencia  n_creditos_banco  status_emprego  n_dependentes  telefone  \\\n",
       "0                1                 2               1              1         1   \n",
       "1                1                 1               1              1         2   \n",
       "2                1                 1               2              2         2   \n",
       "3                2                 1               1              2         2   \n",
       "4                2                 2               1              2         2   \n",
       "\n",
       "   trabalhador_estrangeiro  sexo  estado_civil  \n",
       "0                        1     0             1  \n",
       "1                        1     1             0  \n",
       "2                        1     0             1  \n",
       "3                        1     0             1  \n",
       "4                        1     0             1  \n",
       "\n",
       "[5 rows x 23 columns]"
      ]
     },
     "execution_count": 28,
     "metadata": {},
     "output_type": "execute_result"
    }
   ],
   "source": [
    "#categorias da variavel 'sexo_est_civil'\n",
    "\n",
    "#male :   single = 1\n",
    "#female:  divorced/separated/married = 2\n",
    "#male :   divorced/separated = 3\n",
    "#male :   married/widowed = 4\n",
    "\n",
    "\n",
    "#criando a variavel 'sexo'\n",
    "\n",
    "## 1 = mulher\n",
    "## 0 = homem\n",
    "\n",
    "#criando a variavel 'estado_civil'\n",
    "## 1 = solteira\n",
    "## 0 = casada/divorciada/viúva\n",
    "\n",
    "dic_sexo = {2:1, 1:0, 3:0, 4:0}\n",
    "dic_est_civil = {3:0, 1:1, 2:0, 4:0}\n",
    "\n",
    "dados['sexo'] = dados['sexo_est_civil'].map(dic_sexo)\n",
    "dados['estado_civil'] = dados['sexo_est_civil'].map(dic_est_civil)\n",
    "\n",
    "dados.head()"
   ]
  },
  {
   "cell_type": "markdown",
   "id": "eba0559d",
   "metadata": {},
   "source": [
    "## Funções"
   ]
  },
  {
   "cell_type": "code",
   "execution_count": 48,
   "id": "a8b5c0be",
   "metadata": {},
   "outputs": [
    {
     "data": {
      "text/html": [
       "<div>\n",
       "<style scoped>\n",
       "    .dataframe tbody tr th:only-of-type {\n",
       "        vertical-align: middle;\n",
       "    }\n",
       "\n",
       "    .dataframe tbody tr th {\n",
       "        vertical-align: top;\n",
       "    }\n",
       "\n",
       "    .dataframe thead th {\n",
       "        text-align: right;\n",
       "    }\n",
       "</style>\n",
       "<table border=\"1\" class=\"dataframe\">\n",
       "  <thead>\n",
       "    <tr style=\"text-align: right;\">\n",
       "      <th></th>\n",
       "      <th>default</th>\n",
       "      <th>conta_corrente</th>\n",
       "      <th>prazo_emprestimo_meses</th>\n",
       "      <th>historico_credito</th>\n",
       "      <th>proposito_emprestimo</th>\n",
       "      <th>valor_emprestimo</th>\n",
       "      <th>reserva_cc</th>\n",
       "      <th>tempo_emprego_atual</th>\n",
       "      <th>taxa_comp_salario</th>\n",
       "      <th>outros_fiadores</th>\n",
       "      <th>...</th>\n",
       "      <th>propriedade</th>\n",
       "      <th>idade</th>\n",
       "      <th>outros_planos_financiamento</th>\n",
       "      <th>tipo_residencia</th>\n",
       "      <th>n_creditos_banco</th>\n",
       "      <th>status_emprego</th>\n",
       "      <th>n_dependentes</th>\n",
       "      <th>telefone</th>\n",
       "      <th>trabalhador_estrangeiro</th>\n",
       "      <th>estado_civil</th>\n",
       "    </tr>\n",
       "  </thead>\n",
       "  <tbody>\n",
       "    <tr>\n",
       "      <th>0</th>\n",
       "      <td>0</td>\n",
       "      <td>1</td>\n",
       "      <td>6</td>\n",
       "      <td>1</td>\n",
       "      <td>1</td>\n",
       "      <td>1169</td>\n",
       "      <td>1</td>\n",
       "      <td>1</td>\n",
       "      <td>4</td>\n",
       "      <td>1</td>\n",
       "      <td>...</td>\n",
       "      <td>1</td>\n",
       "      <td>67</td>\n",
       "      <td>1</td>\n",
       "      <td>1</td>\n",
       "      <td>2</td>\n",
       "      <td>1</td>\n",
       "      <td>1</td>\n",
       "      <td>1</td>\n",
       "      <td>1</td>\n",
       "      <td>1</td>\n",
       "    </tr>\n",
       "    <tr>\n",
       "      <th>1</th>\n",
       "      <td>1</td>\n",
       "      <td>2</td>\n",
       "      <td>48</td>\n",
       "      <td>2</td>\n",
       "      <td>1</td>\n",
       "      <td>5951</td>\n",
       "      <td>2</td>\n",
       "      <td>2</td>\n",
       "      <td>2</td>\n",
       "      <td>1</td>\n",
       "      <td>...</td>\n",
       "      <td>1</td>\n",
       "      <td>22</td>\n",
       "      <td>1</td>\n",
       "      <td>1</td>\n",
       "      <td>1</td>\n",
       "      <td>1</td>\n",
       "      <td>1</td>\n",
       "      <td>2</td>\n",
       "      <td>1</td>\n",
       "      <td>0</td>\n",
       "    </tr>\n",
       "  </tbody>\n",
       "</table>\n",
       "<p>2 rows × 21 columns</p>\n",
       "</div>"
      ],
      "text/plain": [
       "   default  conta_corrente  prazo_emprestimo_meses  historico_credito  \\\n",
       "0        0               1                       6                  1   \n",
       "1        1               2                      48                  2   \n",
       "\n",
       "   proposito_emprestimo  valor_emprestimo  reserva_cc  tempo_emprego_atual  \\\n",
       "0                     1              1169           1                    1   \n",
       "1                     1              5951           2                    2   \n",
       "\n",
       "   taxa_comp_salario  outros_fiadores  ...  propriedade  idade  \\\n",
       "0                  4                1  ...            1     67   \n",
       "1                  2                1  ...            1     22   \n",
       "\n",
       "   outros_planos_financiamento  tipo_residencia  n_creditos_banco  \\\n",
       "0                            1                1                 2   \n",
       "1                            1                1                 1   \n",
       "\n",
       "   status_emprego  n_dependentes  telefone  trabalhador_estrangeiro  \\\n",
       "0               1              1         1                        1   \n",
       "1               1              1         2                        1   \n",
       "\n",
       "   estado_civil  \n",
       "0             1  \n",
       "1             0  \n",
       "\n",
       "[2 rows x 21 columns]"
      ]
     },
     "execution_count": 48,
     "metadata": {},
     "output_type": "execute_result"
    }
   ],
   "source": [
    "colunas_retiradas = ['sexo', 'sexo_est_civil']\n",
    "base_dados = dados.drop(columns = colunas_retiradas)\n",
    "base_dados.head(2)"
   ]
  },
  {
   "cell_type": "code",
   "execution_count": 45,
   "id": "055a0244",
   "metadata": {},
   "outputs": [],
   "source": [
    "# funcao 'roda_modelo' : ajuste e validação\n",
    "\n",
    "def roda_modelo(base_dados, classificador):\n",
    "    \n",
    "# separando a base de modelagem e variavel resposta\n",
    "    y = dados.default\n",
    "    x = dados.drop(columns='default')\n",
    "    \n",
    "# Separando a base de treino e teste\n",
    "    SEED = 77\n",
    "    treino_x, teste_x, treino_y, teste_y = train_test_split(x,y, test_size=0.30, random_state=SEED)\n",
    "    \n",
    "    base_treino = treino_x.shape[0]\n",
    "    base_teste = teste_x.shape[0]\n",
    "    \n",
    "    print(100*'-')\n",
    "    print('A base de teste de treino tem {} elementos e a base de teste tem {} elementos.'.format(base_treino,\n",
    "                                                                                              base_teste))\n",
    "    \n",
    "# Ajustar o modelo com base no teste \n",
    "\n",
    "    modelo = classificador # argumeto da função - cabe um modelo genérico\n",
    "    modelo.fit(treino_x, treino_y)\n",
    "    \n",
    "#-----------------------------------------------------------------------------------------------------------------\n",
    "\n",
    "# matriz de confusão \n",
    "    matriz_confusao = plot_confusion_matrix (modelo, teste_x, teste_y, cmap ='Blues', values_format='.3g')\n",
    "    #plt.title(\"Matriz de Confusão\")\n",
    "    plt.show()\n",
    "\n",
    "# classification report\n",
    "    previsoes = previsoes = modelo.predict(teste_x)\n",
    "    \n",
    "    print(100*'-')\n",
    "    print('/nClassification Report: ')\n",
    "    print(classification_report(teste_y, previsoes))\n",
    "\n",
    "# curva ROC e AUC\n",
    "    print(100*'-')\n",
    "    prob_previsao = modelo.predict_proba(teste_x)[:,1]\n",
    "    \n",
    "    #tfp = taxa de falsos positivos\n",
    "    #tvp = taxa de falsos negativos\n",
    "    \n",
    "    tfp, tvp, limite = roc_curve(teste_y, prob_previsao)\n",
    "    print('roc_auc: ', roc_auc_score(teste_y, prob_previsao))\n",
    "    \n",
    "   # plt.subplot()\n",
    "    plt.figure(figsize=(5,5))\n",
    "\n",
    "    #plt.title('curva ROC')\n",
    "    plt.plot(tfp, tvp)\n",
    "    #plt.xlabel('Especificidade')\n",
    "    #plt.ylabel('Sensibilidade')\n",
    "    plt.plot([0, 1], ls=\"--\", c = 'red') #plotando linha guia pontilhada vermelha\n",
    "    plt.plot([0, 0], [1, 0], ls=\"--\", c = 'green'), plt.plot([1, 1], ls=\"--\", c = 'green') #plotando linha guia pontilhada verde\n",
    "    plt.show()\n",
    "    \n",
    "    return modelo, matriz_confusao"
   ]
  },
  {
   "cell_type": "code",
   "execution_count": 49,
   "id": "93e523e3",
   "metadata": {},
   "outputs": [
    {
     "name": "stdout",
     "output_type": "stream",
     "text": [
      "----------------------------------------------------------------------------------------------------\n",
      "A base de teste de treino tem 700 elementos e a base de teste tem 300 elementos.\n"
     ]
    },
    {
     "name": "stderr",
     "output_type": "stream",
     "text": [
      "/opt/anaconda/lib/python3.9/site-packages/sklearn/utils/deprecation.py:87: FutureWarning: Function plot_confusion_matrix is deprecated; Function `plot_confusion_matrix` is deprecated in 1.0 and will be removed in 1.2. Use one of the class methods: ConfusionMatrixDisplay.from_predictions or ConfusionMatrixDisplay.from_estimator.\n",
      "  warnings.warn(msg, category=FutureWarning)\n"
     ]
    },
    {
     "data": {
      "image/png": "[encoded data removed]",
      "text/plain": [
       "<Figure size 640x480 with 2 Axes>"
      ]
     },
     "metadata": {},
     "output_type": "display_data"
    },
    {
     "name": "stdout",
     "output_type": "stream",
     "text": [
      "----------------------------------------------------------------------------------------------------\n",
      "/nClassification Report: \n",
      "              precision    recall  f1-score   support\n",
      "\n",
      "           0       0.81      0.90      0.85       214\n",
      "           1       0.66      0.48      0.55        86\n",
      "\n",
      "    accuracy                           0.78       300\n",
      "   macro avg       0.74      0.69      0.70       300\n",
      "weighted avg       0.77      0.78      0.77       300\n",
      "\n",
      "----------------------------------------------------------------------------------------------------\n",
      "roc_auc:  0.7543468811128016\n"
     ]
    },
    {
     "data": {
      "image/png": "[encoded data removed]",
      "text/plain": [
       "<Figure size 500x500 with 1 Axes>"
      ]
     },
     "metadata": {},
     "output_type": "display_data"
    },
    {
     "data": {
      "text/plain": [
       "(LogisticRegression(max_iter=1000),\n",
       " <sklearn.metrics._plot.confusion_matrix.ConfusionMatrixDisplay at 0x7fd6d410e8e0>)"
      ]
     },
     "execution_count": 49,
     "metadata": {},
     "output_type": "execute_result"
    }
   ],
   "source": [
    "roda_modelo(base_dados, LogisticRegression(max_iter=1000))"
   ]
  },
  {
   "cell_type": "code",
   "execution_count": null,
   "id": "ae48c789",
   "metadata": {},
   "outputs": [],
   "source": []
  }
 ],
 "metadata": {
  "kernelspec": {
   "display_name": "Python 3 (ipykernel)",
   "language": "python",
   "name": "python3"
  },
  "language_info": {
   "codemirror_mode": {
    "name": "ipython",
    "version": 3
   },
   "file_extension": ".py",
   "mimetype": "text/x-python",
   "name": "python",
   "nbconvert_exporter": "python",
   "pygments_lexer": "ipython3",
   "version": "3.9.12"
  }
 },
 "nbformat": 4,
 "nbformat_minor": 5
}
